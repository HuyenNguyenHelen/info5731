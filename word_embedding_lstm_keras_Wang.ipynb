{
  "nbformat": 4,
  "nbformat_minor": 0,
  "metadata": {
    "colab": {
      "name": "word-embedding-lstm-keras-Wang.ipynb",
      "version": "0.3.2",
      "provenance": [],
      "collapsed_sections": [],
      "include_colab_link": true
    },
    "kernelspec": {
      "name": "python3",
      "display_name": "Python 3"
    },
    "accelerator": "TPU"
  },
  "cells": [
    {
      "cell_type": "markdown",
      "metadata": {
        "id": "view-in-github",
        "colab_type": "text"
      },
      "source": [
        "<a href=\"https://colab.research.google.com/github/dafeng097/info5731/blob/master/word_embedding_lstm_keras_Wang.ipynb\" target=\"_parent\"><img src=\"https://colab.research.google.com/assets/colab-badge.svg\" alt=\"Open In Colab\"/></a>"
      ]
    },
    {
      "metadata": {
        "id": "UI-oUt9up1jL",
        "colab_type": "code",
        "outputId": "66e9c208-d2c7-484f-d86c-0b9a98db362e",
        "colab": {
          "base_uri": "https://localhost:8080/",
          "height": 328
        }
      },
      "cell_type": "code",
      "source": [
        "!wget https://github.com/wshuyi/info-5731-public/raw/master/yelp-polarity-middle-size.pickle"
      ],
      "execution_count": 0,
      "outputs": [
        {
          "output_type": "stream",
          "text": [
            "--2019-04-09 19:53:31--  https://github.com/wshuyi/info-5731-public/raw/master/yelp-polarity-middle-size.pickle\n",
            "Resolving github.com (github.com)... 192.30.253.113, 192.30.253.112\n",
            "Connecting to github.com (github.com)|192.30.253.113|:443... connected.\n",
            "HTTP request sent, awaiting response... 302 Found\n",
            "Location: https://raw.githubusercontent.com/wshuyi/info-5731-public/master/yelp-polarity-middle-size.pickle [following]\n",
            "--2019-04-09 19:53:31--  https://raw.githubusercontent.com/wshuyi/info-5731-public/master/yelp-polarity-middle-size.pickle\n",
            "Resolving raw.githubusercontent.com (raw.githubusercontent.com)... 151.101.0.133, 151.101.64.133, 151.101.128.133, ...\n",
            "Connecting to raw.githubusercontent.com (raw.githubusercontent.com)|151.101.0.133|:443... connected.\n",
            "HTTP request sent, awaiting response... 200 OK\n",
            "Length: 16174268 (15M) [application/octet-stream]\n",
            "Saving to: ‘yelp-polarity-middle-size.pickle’\n",
            "\n",
            "yelp-polarity-middl 100%[===================>]  15.42M  89.4MB/s    in 0.2s    \n",
            "\n",
            "2019-04-09 19:53:32 (89.4 MB/s) - ‘yelp-polarity-middle-size.pickle’ saved [16174268/16174268]\n",
            "\n"
          ],
          "name": "stdout"
        }
      ]
    },
    {
      "metadata": {
        "id": "7KEyIXZzqZX9",
        "colab_type": "code",
        "colab": {}
      },
      "cell_type": "code",
      "source": [
        "import pickle"
      ],
      "execution_count": 0,
      "outputs": []
    },
    {
      "metadata": {
        "id": "Svkq4VY-qe57",
        "colab_type": "code",
        "colab": {}
      },
      "cell_type": "code",
      "source": [
        "import pandas as pd"
      ],
      "execution_count": 0,
      "outputs": []
    },
    {
      "metadata": {
        "id": "aADc8sHOqf5L",
        "colab_type": "code",
        "colab": {}
      },
      "cell_type": "code",
      "source": [
        "with open(\"yelp-polarity-middle-size.pickle\", 'rb') as f:\n",
        "  train, valid, test = pickle.load(f)"
      ],
      "execution_count": 0,
      "outputs": []
    },
    {
      "metadata": {
        "id": "r0GNfNrvqlaL",
        "colab_type": "code",
        "outputId": "35786d75-df6f-4b1a-9522-e863ce23a415",
        "colab": {
          "base_uri": "https://localhost:8080/",
          "height": 206
        }
      },
      "cell_type": "code",
      "source": [
        "train.head()"
      ],
      "execution_count": 0,
      "outputs": [
        {
          "output_type": "execute_result",
          "data": {
            "text/html": [
              "<div>\n",
              "<style scoped>\n",
              "    .dataframe tbody tr th:only-of-type {\n",
              "        vertical-align: middle;\n",
              "    }\n",
              "\n",
              "    .dataframe tbody tr th {\n",
              "        vertical-align: top;\n",
              "    }\n",
              "\n",
              "    .dataframe thead th {\n",
              "        text-align: right;\n",
              "    }\n",
              "</style>\n",
              "<table border=\"1\" class=\"dataframe\">\n",
              "  <thead>\n",
              "    <tr style=\"text-align: right;\">\n",
              "      <th></th>\n",
              "      <th>sentiment</th>\n",
              "      <th>text</th>\n",
              "    </tr>\n",
              "  </thead>\n",
              "  <tbody>\n",
              "    <tr>\n",
              "      <th>0</th>\n",
              "      <td>0</td>\n",
              "      <td>If you're leaving Vegas, know that this is the...</td>\n",
              "    </tr>\n",
              "    <tr>\n",
              "      <th>1</th>\n",
              "      <td>1</td>\n",
              "      <td>We were hungry and so quick bites of pizzas sa...</td>\n",
              "    </tr>\n",
              "    <tr>\n",
              "      <th>2</th>\n",
              "      <td>0</td>\n",
              "      <td>I have been calling around to various bakeries...</td>\n",
              "    </tr>\n",
              "    <tr>\n",
              "      <th>3</th>\n",
              "      <td>0</td>\n",
              "      <td>The first few visits here, we enjoyed it. The ...</td>\n",
              "    </tr>\n",
              "    <tr>\n",
              "      <th>4</th>\n",
              "      <td>0</td>\n",
              "      <td>Horrible service, menus never provided. Had to...</td>\n",
              "    </tr>\n",
              "  </tbody>\n",
              "</table>\n",
              "</div>"
            ],
            "text/plain": [
              "   sentiment                                               text\n",
              "0          0  If you're leaving Vegas, know that this is the...\n",
              "1          1  We were hungry and so quick bites of pizzas sa...\n",
              "2          0  I have been calling around to various bakeries...\n",
              "3          0  The first few visits here, we enjoyed it. The ...\n",
              "4          0  Horrible service, menus never provided. Had to..."
            ]
          },
          "metadata": {
            "tags": []
          },
          "execution_count": 5
        }
      ]
    },
    {
      "metadata": {
        "id": "S-EaWpiyqmZr",
        "colab_type": "code",
        "outputId": "3bd906e1-ba9f-463a-bc92-72297b58f3e0",
        "colab": {
          "base_uri": "https://localhost:8080/",
          "height": 365
        }
      },
      "cell_type": "code",
      "source": [
        "train.sentiment.value_counts().plot(kind='barh')"
      ],
      "execution_count": 0,
      "outputs": [
        {
          "output_type": "execute_result",
          "data": {
            "text/plain": [
              "<matplotlib.axes._subplots.AxesSubplot at 0x7f926ffc12e8>"
            ]
          },
          "metadata": {
            "tags": []
          },
          "execution_count": 7
        },
        {
          "output_type": "display_data",
          "data": {
            "image/png": "[encoded data removed]",
            "text/plain": [
              "<Figure size 576x396 with 1 Axes>"
            ]
          },
          "metadata": {
            "tags": []
          }
        }
      ]
    },
    {
      "metadata": {
        "id": "o5kQoRjItNvt",
        "colab_type": "code",
        "colab": {}
      },
      "cell_type": "code",
      "source": [
        "from keras.preprocessing.text import Tokenizer"
      ],
      "execution_count": 0,
      "outputs": []
    },
    {
      "metadata": {
        "id": "TWyQkKqWtYMt",
        "colab_type": "code",
        "colab": {}
      },
      "cell_type": "code",
      "source": [
        "from keras.preprocessing.sequence import pad_sequences"
      ],
      "execution_count": 0,
      "outputs": []
    },
    {
      "metadata": {
        "id": "yQoz4N3btbW8",
        "colab_type": "code",
        "colab": {}
      },
      "cell_type": "code",
      "source": [
        "import numpy as np"
      ],
      "execution_count": 0,
      "outputs": []
    },
    {
      "metadata": {
        "id": "zfHa_ctHtcvM",
        "colab_type": "code",
        "colab": {}
      },
      "cell_type": "code",
      "source": [
        "num_words = 10000"
      ],
      "execution_count": 0,
      "outputs": []
    },
    {
      "metadata": {
        "id": "klYWCLO-ttx9",
        "colab_type": "code",
        "colab": {}
      },
      "cell_type": "code",
      "source": [
        "tokenizer = Tokenizer(num_words=num_words)"
      ],
      "execution_count": 0,
      "outputs": []
    },
    {
      "metadata": {
        "id": "kyKgb1VJtyHc",
        "colab_type": "code",
        "colab": {}
      },
      "cell_type": "code",
      "source": [
        "tokenizer.fit_on_texts(train.text)"
      ],
      "execution_count": 0,
      "outputs": []
    },
    {
      "metadata": {
        "id": "xOjpxOMot1Rc",
        "colab_type": "code",
        "colab": {}
      },
      "cell_type": "code",
      "source": [
        "train_sequences = tokenizer.texts_to_sequences(train.text)\n",
        "valid_sequences = tokenizer.texts_to_sequences(valid.text)\n",
        "test_sequences = tokenizer.texts_to_sequences(test.text)"
      ],
      "execution_count": 0,
      "outputs": []
    },
    {
      "metadata": {
        "id": "c8TBerCuuRI3",
        "colab_type": "code",
        "outputId": "c36944d0-c046-4612-befb-053ec893e232",
        "colab": {
          "base_uri": "https://localhost:8080/",
          "height": 55
        }
      },
      "cell_type": "code",
      "source": [
        "train.text[0]"
      ],
      "execution_count": 0,
      "outputs": [
        {
          "output_type": "execute_result",
          "data": {
            "text/plain": [
              "\"If you're leaving Vegas, know that this is the very last time you will have to shell out an ungodly amount of money for pure crap. \\\\n\\\\nWe just wanted a nice refreshing soda with ice and a straw to sooth our yucky tummies. Little did I know that two small sodas would cost $6.25. \\\\n\\\\n$6.25!!!!!!!\\\\n\\\\nWhat a gigantic rip off. Complete usuary. Eff you, BK.\""
            ]
          },
          "metadata": {
            "tags": []
          },
          "execution_count": 16
        }
      ]
    },
    {
      "metadata": {
        "id": "VArDqFKxuEb8",
        "colab_type": "code",
        "outputId": "0c5c22ac-a5a5-4c21-cd7d-286e5c48f26f",
        "colab": {
          "base_uri": "https://localhost:8080/",
          "height": 1236
        }
      },
      "cell_type": "code",
      "source": [
        "train_sequences[0]"
      ],
      "execution_count": 0,
      "outputs": [
        {
          "output_type": "execute_result",
          "data": {
            "text/plain": [
              "[40,\n",
              " 240,\n",
              " 948,\n",
              " 137,\n",
              " 112,\n",
              " 13,\n",
              " 16,\n",
              " 11,\n",
              " 1,\n",
              " 44,\n",
              " 184,\n",
              " 48,\n",
              " 20,\n",
              " 65,\n",
              " 23,\n",
              " 4,\n",
              " 2154,\n",
              " 36,\n",
              " 59,\n",
              " 549,\n",
              " 7,\n",
              " 260,\n",
              " 9,\n",
              " 2724,\n",
              " 1149,\n",
              " 12,\n",
              " 259,\n",
              " 39,\n",
              " 190,\n",
              " 5,\n",
              " 89,\n",
              " 1997,\n",
              " 1374,\n",
              " 18,\n",
              " 457,\n",
              " 2,\n",
              " 5,\n",
              " 3561,\n",
              " 4,\n",
              " 42,\n",
              " 5756,\n",
              " 111,\n",
              " 92,\n",
              " 3,\n",
              " 112,\n",
              " 13,\n",
              " 121,\n",
              " 201,\n",
              " 3500,\n",
              " 53,\n",
              " 640,\n",
              " 375,\n",
              " 686,\n",
              " 12,\n",
              " 12,\n",
              " 375,\n",
              " 686,\n",
              " 12,\n",
              " 1550,\n",
              " 5,\n",
              " 4173,\n",
              " 1998,\n",
              " 110,\n",
              " 1040,\n",
              " 7344,\n",
              " 20,\n",
              " 6413]"
            ]
          },
          "metadata": {
            "tags": []
          },
          "execution_count": 17
        }
      ]
    },
    {
      "metadata": {
        "id": "QExagJKMuGn8",
        "colab_type": "code",
        "outputId": "8995dde2-395e-482f-c73e-adee99fdc146",
        "colab": {
          "base_uri": "https://localhost:8080/",
          "height": 381
        }
      },
      "cell_type": "code",
      "source": [
        "list(tokenizer.index_word.items())[:20]"
      ],
      "execution_count": 0,
      "outputs": [
        {
          "output_type": "execute_result",
          "data": {
            "text/plain": [
              "[(1, 'the'),\n",
              " (2, 'and'),\n",
              " (3, 'i'),\n",
              " (4, 'to'),\n",
              " (5, 'a'),\n",
              " (6, 'was'),\n",
              " (7, 'of'),\n",
              " (8, 'it'),\n",
              " (9, 'for'),\n",
              " (10, 'in'),\n",
              " (11, 'is'),\n",
              " (12, 'n'),\n",
              " (13, 'that'),\n",
              " (14, 'my'),\n",
              " (15, 'we'),\n",
              " (16, 'this'),\n",
              " (17, 'but'),\n",
              " (18, 'with'),\n",
              " (19, 'they'),\n",
              " (20, 'you')]"
            ]
          },
          "metadata": {
            "tags": []
          },
          "execution_count": 22
        }
      ]
    },
    {
      "metadata": {
        "id": "BM6elV2iuhDN",
        "colab_type": "code",
        "outputId": "a02cdaae-8326-45c8-986d-835ed43cc66e",
        "colab": {
          "base_uri": "https://localhost:8080/",
          "height": 35
        }
      },
      "cell_type": "code",
      "source": [
        "len(train_sequences[0])"
      ],
      "execution_count": 0,
      "outputs": [
        {
          "output_type": "execute_result",
          "data": {
            "text/plain": [
              "67"
            ]
          },
          "metadata": {
            "tags": []
          },
          "execution_count": 24
        }
      ]
    },
    {
      "metadata": {
        "id": "b-JU5otAweod",
        "colab_type": "code",
        "outputId": "cc36c0d5-f496-4c49-b3b7-88721c49f6b7",
        "colab": {
          "base_uri": "https://localhost:8080/",
          "height": 35
        }
      },
      "cell_type": "code",
      "source": [
        "len(train_sequences[1])"
      ],
      "execution_count": 0,
      "outputs": [
        {
          "output_type": "execute_result",
          "data": {
            "text/plain": [
              "60"
            ]
          },
          "metadata": {
            "tags": []
          },
          "execution_count": 25
        }
      ]
    },
    {
      "metadata": {
        "id": "gbguLQSQwkK-",
        "colab_type": "code",
        "colab": {}
      },
      "cell_type": "code",
      "source": [
        "train['text_length']=train['text'].str.len()"
      ],
      "execution_count": 0,
      "outputs": []
    },
    {
      "metadata": {
        "id": "S9ksKBqfxYpe",
        "colab_type": "code",
        "outputId": "c38018a1-8bdf-4cb5-cac8-34de91804a0b",
        "colab": {
          "base_uri": "https://localhost:8080/",
          "height": 365
        }
      },
      "cell_type": "code",
      "source": [
        "train.groupby(['text_length']).count().plot(kind='hist')"
      ],
      "execution_count": 0,
      "outputs": [
        {
          "output_type": "execute_result",
          "data": {
            "text/plain": [
              "<matplotlib.axes._subplots.AxesSubplot at 0x7f925b75b940>"
            ]
          },
          "metadata": {
            "tags": []
          },
          "execution_count": 28
        },
        {
          "output_type": "display_data",
          "data": {
            "image/png": "[encoded data removed]",
            "text/plain": [
              "<Figure size 576x396 with 1 Axes>"
            ]
          },
          "metadata": {
            "tags": []
          }
        }
      ]
    },
    {
      "metadata": {
        "id": "9FPP-GiTyU1m",
        "colab_type": "code",
        "colab": {}
      },
      "cell_type": "code",
      "source": [
        "lens = [len(seq) for seq in train_sequences]"
      ],
      "execution_count": 0,
      "outputs": []
    },
    {
      "metadata": {
        "id": "1tBJcBJGydr9",
        "colab_type": "code",
        "outputId": "55864a22-577b-4a5d-c7af-182d335c1a48",
        "colab": {
          "base_uri": "https://localhost:8080/",
          "height": 18235
        }
      },
      "cell_type": "code",
      "source": [
        "lens"
      ],
      "execution_count": 0,
      "outputs": [
        {
          "output_type": "execute_result",
          "data": {
            "text/plain": [
              "[67,\n",
              " 60,\n",
              " 139,\n",
              " 230,\n",
              " 17,\n",
              " 207,\n",
              " 425,\n",
              " 202,\n",
              " 88,\n",
              " 641,\n",
              " 184,\n",
              " 83,\n",
              " 30,\n",
              " 25,\n",
              " 39,\n",
              " 162,\n",
              " 126,\n",
              " 203,\n",
              " 185,\n",
              " 100,\n",
              " 123,\n",
              " 221,\n",
              " 142,\n",
              " 169,\n",
              " 111,\n",
              " 68,\n",
              " 71,\n",
              " 106,\n",
              " 165,\n",
              " 204,\n",
              " 126,\n",
              " 169,\n",
              " 45,\n",
              " 135,\n",
              " 72,\n",
              " 27,\n",
              " 19,\n",
              " 68,\n",
              " 111,\n",
              " 109,\n",
              " 140,\n",
              " 46,\n",
              " 170,\n",
              " 103,\n",
              " 14,\n",
              " 301,\n",
              " 162,\n",
              " 56,\n",
              " 19,\n",
              " 235,\n",
              " 385,\n",
              " 82,\n",
              " 158,\n",
              " 177,\n",
              " 328,\n",
              " 134,\n",
              " 42,\n",
              " 310,\n",
              " 41,\n",
              " 63,\n",
              " 64,\n",
              " 84,\n",
              " 192,\n",
              " 37,\n",
              " 11,\n",
              " 5,\n",
              " 104,\n",
              " 584,\n",
              " 285,\n",
              " 376,\n",
              " 27,\n",
              " 59,\n",
              " 104,\n",
              " 70,\n",
              " 137,\n",
              " 78,\n",
              " 43,\n",
              " 144,\n",
              " 135,\n",
              " 167,\n",
              " 101,\n",
              " 130,\n",
              " 81,\n",
              " 183,\n",
              " 62,\n",
              " 32,\n",
              " 32,\n",
              " 55,\n",
              " 38,\n",
              " 78,\n",
              " 164,\n",
              " 129,\n",
              " 32,\n",
              " 38,\n",
              " 594,\n",
              " 97,\n",
              " 55,\n",
              " 314,\n",
              " 141,\n",
              " 174,\n",
              " 12,\n",
              " 107,\n",
              " 232,\n",
              " 48,\n",
              " 190,\n",
              " 278,\n",
              " 144,\n",
              " 42,\n",
              " 260,\n",
              " 205,\n",
              " 127,\n",
              " 70,\n",
              " 99,\n",
              " 131,\n",
              " 87,\n",
              " 124,\n",
              " 64,\n",
              " 25,\n",
              " 33,\n",
              " 358,\n",
              " 30,\n",
              " 54,\n",
              " 122,\n",
              " 59,\n",
              " 254,\n",
              " 147,\n",
              " 89,\n",
              " 95,\n",
              " 134,\n",
              " 164,\n",
              " 92,\n",
              " 228,\n",
              " 872,\n",
              " 87,\n",
              " 22,\n",
              " 121,\n",
              " 35,\n",
              " 335,\n",
              " 5,\n",
              " 165,\n",
              " 70,\n",
              " 403,\n",
              " 64,\n",
              " 156,\n",
              " 315,\n",
              " 12,\n",
              " 106,\n",
              " 22,\n",
              " 137,\n",
              " 239,\n",
              " 99,\n",
              " 79,\n",
              " 109,\n",
              " 78,\n",
              " 58,\n",
              " 113,\n",
              " 130,\n",
              " 42,\n",
              " 146,\n",
              " 17,\n",
              " 139,\n",
              " 455,\n",
              " 172,\n",
              " 319,\n",
              " 49,\n",
              " 72,\n",
              " 91,\n",
              " 71,\n",
              " 92,\n",
              " 267,\n",
              " 124,\n",
              " 20,\n",
              " 102,\n",
              " 81,\n",
              " 34,\n",
              " 105,\n",
              " 270,\n",
              " 214,\n",
              " 34,\n",
              " 214,\n",
              " 320,\n",
              " 66,\n",
              " 91,\n",
              " 68,\n",
              " 28,\n",
              " 91,\n",
              " 186,\n",
              " 222,\n",
              " 178,\n",
              " 30,\n",
              " 350,\n",
              " 49,\n",
              " 192,\n",
              " 22,\n",
              " 72,\n",
              " 74,\n",
              " 94,\n",
              " 101,\n",
              " 46,\n",
              " 573,\n",
              " 193,\n",
              " 179,\n",
              " 127,\n",
              " 37,\n",
              " 31,\n",
              " 59,\n",
              " 170,\n",
              " 5,\n",
              " 29,\n",
              " 177,\n",
              " 452,\n",
              " 138,\n",
              " 155,\n",
              " 455,\n",
              " 86,\n",
              " 332,\n",
              " 333,\n",
              " 126,\n",
              " 43,\n",
              " 197,\n",
              " 70,\n",
              " 863,\n",
              " 36,\n",
              " 116,\n",
              " 48,\n",
              " 133,\n",
              " 131,\n",
              " 99,\n",
              " 287,\n",
              " 24,\n",
              " 153,\n",
              " 82,\n",
              " 53,\n",
              " 165,\n",
              " 134,\n",
              " 105,\n",
              " 460,\n",
              " 95,\n",
              " 102,\n",
              " 26,\n",
              " 92,\n",
              " 107,\n",
              " 34,\n",
              " 393,\n",
              " 96,\n",
              " 100,\n",
              " 148,\n",
              " 94,\n",
              " 43,\n",
              " 167,\n",
              " 68,\n",
              " 55,\n",
              " 727,\n",
              " 100,\n",
              " 124,\n",
              " 112,\n",
              " 20,\n",
              " 247,\n",
              " 27,\n",
              " 79,\n",
              " 95,\n",
              " 60,\n",
              " 13,\n",
              " 108,\n",
              " 24,\n",
              " 163,\n",
              " 207,\n",
              " 17,\n",
              " 25,\n",
              " 61,\n",
              " 148,\n",
              " 74,\n",
              " 94,\n",
              " 158,\n",
              " 173,\n",
              " 14,\n",
              " 148,\n",
              " 259,\n",
              " 73,\n",
              " 96,\n",
              " 24,\n",
              " 125,\n",
              " 64,\n",
              " 190,\n",
              " 25,\n",
              " 195,\n",
              " 73,\n",
              " 8,\n",
              " 96,\n",
              " 58,\n",
              " 142,\n",
              " 488,\n",
              " 13,\n",
              " 25,\n",
              " 134,\n",
              " 296,\n",
              " 189,\n",
              " 58,\n",
              " 255,\n",
              " 48,\n",
              " 202,\n",
              " 176,\n",
              " 417,\n",
              " 74,\n",
              " 261,\n",
              " 59,\n",
              " 199,\n",
              " 46,\n",
              " 151,\n",
              " 38,\n",
              " 199,\n",
              " 105,\n",
              " 214,\n",
              " 101,\n",
              " 44,\n",
              " 151,\n",
              " 6,\n",
              " 115,\n",
              " 77,\n",
              " 79,\n",
              " 113,\n",
              " 179,\n",
              " 103,\n",
              " 3,\n",
              " 182,\n",
              " 80,\n",
              " 50,\n",
              " 257,\n",
              " 52,\n",
              " 37,\n",
              " 206,\n",
              " 150,\n",
              " 133,\n",
              " 61,\n",
              " 171,\n",
              " 104,\n",
              " 56,\n",
              " 26,\n",
              " 337,\n",
              " 30,\n",
              " 73,\n",
              " 230,\n",
              " 87,\n",
              " 86,\n",
              " 207,\n",
              " 201,\n",
              " 155,\n",
              " 76,\n",
              " 66,\n",
              " 215,\n",
              " 30,\n",
              " 178,\n",
              " 30,\n",
              " 59,\n",
              " 229,\n",
              " 77,\n",
              " 42,\n",
              " 233,\n",
              " 53,\n",
              " 197,\n",
              " 125,\n",
              " 139,\n",
              " 104,\n",
              " 106,\n",
              " 142,\n",
              " 16,\n",
              " 43,\n",
              " 46,\n",
              " 21,\n",
              " 135,\n",
              " 96,\n",
              " 86,\n",
              " 153,\n",
              " 48,\n",
              " 30,\n",
              " 46,\n",
              " 257,\n",
              " 58,\n",
              " 269,\n",
              " 28,\n",
              " 119,\n",
              " 86,\n",
              " 37,\n",
              " 38,\n",
              " 101,\n",
              " 170,\n",
              " 120,\n",
              " 72,\n",
              " 161,\n",
              " 20,\n",
              " 32,\n",
              " 79,\n",
              " 169,\n",
              " 55,\n",
              " 36,\n",
              " 56,\n",
              " 59,\n",
              " 200,\n",
              " 98,\n",
              " 129,\n",
              " 30,\n",
              " 165,\n",
              " 129,\n",
              " 90,\n",
              " 113,\n",
              " 151,\n",
              " 169,\n",
              " 165,\n",
              " 115,\n",
              " 161,\n",
              " 50,\n",
              " 92,\n",
              " 139,\n",
              " 7,\n",
              " 142,\n",
              " 97,\n",
              " 129,\n",
              " 109,\n",
              " 86,\n",
              " 18,\n",
              " 62,\n",
              " 172,\n",
              " 44,\n",
              " 96,\n",
              " 178,\n",
              " 40,\n",
              " 75,\n",
              " 17,\n",
              " 91,\n",
              " 185,\n",
              " 71,\n",
              " 31,\n",
              " 188,\n",
              " 106,\n",
              " 163,\n",
              " 24,\n",
              " 16,\n",
              " 11,\n",
              " 45,\n",
              " 25,\n",
              " 39,\n",
              " 42,\n",
              " 55,\n",
              " 191,\n",
              " 178,\n",
              " 57,\n",
              " 245,\n",
              " 102,\n",
              " 15,\n",
              " 331,\n",
              " 5,\n",
              " 477,\n",
              " 20,\n",
              " 35,\n",
              " 20,\n",
              " 161,\n",
              " 57,\n",
              " 119,\n",
              " 112,\n",
              " 204,\n",
              " 17,\n",
              " 422,\n",
              " 2,\n",
              " 55,\n",
              " 321,\n",
              " 149,\n",
              " 72,\n",
              " 27,\n",
              " 146,\n",
              " 189,\n",
              " 555,\n",
              " 77,\n",
              " 42,\n",
              " 27,\n",
              " 34,\n",
              " 225,\n",
              " 107,\n",
              " 113,\n",
              " 49,\n",
              " 196,\n",
              " 313,\n",
              " 55,\n",
              " 44,\n",
              " 331,\n",
              " 168,\n",
              " 22,\n",
              " 55,\n",
              " 112,\n",
              " 120,\n",
              " 78,\n",
              " 102,\n",
              " 214,\n",
              " 77,\n",
              " 119,\n",
              " 223,\n",
              " 104,\n",
              " 163,\n",
              " 54,\n",
              " 56,\n",
              " 68,\n",
              " 147,\n",
              " 25,\n",
              " 88,\n",
              " 96,\n",
              " 9,\n",
              " 67,\n",
              " 137,\n",
              " 31,\n",
              " 30,\n",
              " 41,\n",
              " 58,\n",
              " 114,\n",
              " 141,\n",
              " 98,\n",
              " 192,\n",
              " 56,\n",
              " 137,\n",
              " 79,\n",
              " 226,\n",
              " 16,\n",
              " 119,\n",
              " 52,\n",
              " 83,\n",
              " 178,\n",
              " 873,\n",
              " 35,\n",
              " 25,\n",
              " 428,\n",
              " 77,\n",
              " 49,\n",
              " 61,\n",
              " 796,\n",
              " 119,\n",
              " 221,\n",
              " 219,\n",
              " 125,\n",
              " 213,\n",
              " 234,\n",
              " 273,\n",
              " 52,\n",
              " 34,\n",
              " 473,\n",
              " 122,\n",
              " 27,\n",
              " 20,\n",
              " 12,\n",
              " 113,\n",
              " 97,\n",
              " 292,\n",
              " 134,\n",
              " 49,\n",
              " 503,\n",
              " 135,\n",
              " 37,\n",
              " 125,\n",
              " 124,\n",
              " 128,\n",
              " 43,\n",
              " 87,\n",
              " 203,\n",
              " 25,\n",
              " 75,\n",
              " 188,\n",
              " 29,\n",
              " 196,\n",
              " 30,\n",
              " 280,\n",
              " 220,\n",
              " 42,\n",
              " 86,\n",
              " 170,\n",
              " 40,\n",
              " 219,\n",
              " 159,\n",
              " 57,\n",
              " 42,\n",
              " 183,\n",
              " 160,\n",
              " 43,\n",
              " 193,\n",
              " 37,\n",
              " 125,\n",
              " 117,\n",
              " 34,\n",
              " 52,\n",
              " 31,\n",
              " 156,\n",
              " 43,\n",
              " 54,\n",
              " 47,\n",
              " 310,\n",
              " 106,\n",
              " 114,\n",
              " 382,\n",
              " 433,\n",
              " 424,\n",
              " 268,\n",
              " 83,\n",
              " 232,\n",
              " 35,\n",
              " 36,\n",
              " 151,\n",
              " 555,\n",
              " 18,\n",
              " 61,\n",
              " 160,\n",
              " 279,\n",
              " 30,\n",
              " 77,\n",
              " 52,\n",
              " 94,\n",
              " 109,\n",
              " 144,\n",
              " 220,\n",
              " 98,\n",
              " 118,\n",
              " 186,\n",
              " 23,\n",
              " 513,\n",
              " 90,\n",
              " 122,\n",
              " 148,\n",
              " 35,\n",
              " 59,\n",
              " 86,\n",
              " 96,\n",
              " 421,\n",
              " 48,\n",
              " 242,\n",
              " 480,\n",
              " 108,\n",
              " 42,\n",
              " 308,\n",
              " 107,\n",
              " 51,\n",
              " 106,\n",
              " 353,\n",
              " 239,\n",
              " 113,\n",
              " 78,\n",
              " 44,\n",
              " 140,\n",
              " 214,\n",
              " 71,\n",
              " 42,\n",
              " 191,\n",
              " 206,\n",
              " 71,\n",
              " 131,\n",
              " 31,\n",
              " 201,\n",
              " 11,\n",
              " 64,\n",
              " 495,\n",
              " 259,\n",
              " 576,\n",
              " 51,\n",
              " 30,\n",
              " 66,\n",
              " 349,\n",
              " 49,\n",
              " 33,\n",
              " 41,\n",
              " 35,\n",
              " 130,\n",
              " 22,\n",
              " 458,\n",
              " 15,\n",
              " 37,\n",
              " 356,\n",
              " 100,\n",
              " 440,\n",
              " 29,\n",
              " 158,\n",
              " 154,\n",
              " 317,\n",
              " 73,\n",
              " 74,\n",
              " 93,\n",
              " 54,\n",
              " 20,\n",
              " 398,\n",
              " 126,\n",
              " 217,\n",
              " 53,\n",
              " 110,\n",
              " 407,\n",
              " 25,\n",
              " 151,\n",
              " 211,\n",
              " 87,\n",
              " 94,\n",
              " 26,\n",
              " 54,\n",
              " 119,\n",
              " 67,\n",
              " 54,\n",
              " 207,\n",
              " 15,\n",
              " 33,\n",
              " 24,\n",
              " 275,\n",
              " 78,\n",
              " 169,\n",
              " 665,\n",
              " 190,\n",
              " 197,\n",
              " 328,\n",
              " 71,\n",
              " 28,\n",
              " 244,\n",
              " 280,\n",
              " 78,\n",
              " 256,\n",
              " 100,\n",
              " 117,\n",
              " 59,\n",
              " 168,\n",
              " 41,\n",
              " 143,\n",
              " 175,\n",
              " 169,\n",
              " 82,\n",
              " 37,\n",
              " 281,\n",
              " 142,\n",
              " 92,\n",
              " 58,\n",
              " 338,\n",
              " 216,\n",
              " 72,\n",
              " 21,\n",
              " 18,\n",
              " 13,\n",
              " 157,\n",
              " 60,\n",
              " 135,\n",
              " 343,\n",
              " 387,\n",
              " 192,\n",
              " 275,\n",
              " 45,\n",
              " 49,\n",
              " 40,\n",
              " 150,\n",
              " 21,\n",
              " 18,\n",
              " 174,\n",
              " 528,\n",
              " 307,\n",
              " 243,\n",
              " 151,\n",
              " 23,\n",
              " 91,\n",
              " 159,\n",
              " 244,\n",
              " 113,\n",
              " 114,\n",
              " 56,\n",
              " 438,\n",
              " 315,\n",
              " 256,\n",
              " 182,\n",
              " 35,\n",
              " 69,\n",
              " 206,\n",
              " 245,\n",
              " 94,\n",
              " 56,\n",
              " 115,\n",
              " 78,\n",
              " 82,\n",
              " 49,\n",
              " 358,\n",
              " 103,\n",
              " 104,\n",
              " 32,\n",
              " 21,\n",
              " 62,\n",
              " 63,\n",
              " 104,\n",
              " 111,\n",
              " 16,\n",
              " 123,\n",
              " 36,\n",
              " 594,\n",
              " 163,\n",
              " 137,\n",
              " 111,\n",
              " 33,\n",
              " 274,\n",
              " 42,\n",
              " 16,\n",
              " 42,\n",
              " 237,\n",
              " 53,\n",
              " 148,\n",
              " 384,\n",
              " 48,\n",
              " 145,\n",
              " 161,\n",
              " 73,\n",
              " 269,\n",
              " 35,\n",
              " 136,\n",
              " 52,\n",
              " 24,\n",
              " 553,\n",
              " 52,\n",
              " 114,\n",
              " 86,\n",
              " 263,\n",
              " 112,\n",
              " 94,\n",
              " 180,\n",
              " 51,\n",
              " 96,\n",
              " 99,\n",
              " 54,\n",
              " 137,\n",
              " 274,\n",
              " 306,\n",
              " 43,\n",
              " 69,\n",
              " 129,\n",
              " 22,\n",
              " 35,\n",
              " 60,\n",
              " 79,\n",
              " 156,\n",
              " 106,\n",
              " 79,\n",
              " 460,\n",
              " 231,\n",
              " 44,\n",
              " 96,\n",
              " 474,\n",
              " 27,\n",
              " 197,\n",
              " 68,\n",
              " 61,\n",
              " 82,\n",
              " 43,\n",
              " 21,\n",
              " 80,\n",
              " 32,\n",
              " 104,\n",
              " 125,\n",
              " 49,\n",
              " 55,\n",
              " 133,\n",
              " 176,\n",
              " 50,\n",
              " 20,\n",
              " 86,\n",
              " 384,\n",
              " 70,\n",
              " 110,\n",
              " 167,\n",
              " 279,\n",
              " 81,\n",
              " 56,\n",
              " 57,\n",
              " 43,\n",
              " 109,\n",
              " 20,\n",
              " 100,\n",
              " 150,\n",
              " 65,\n",
              " 147,\n",
              " 85,\n",
              " 276,\n",
              " 275,\n",
              " 123,\n",
              " 60,\n",
              " 291,\n",
              " 40,\n",
              " 48,\n",
              " 110,\n",
              " 191,\n",
              " 195,\n",
              " 389,\n",
              " 86,\n",
              " 12,\n",
              " 36,\n",
              " 74,\n",
              " 98,\n",
              " 378,\n",
              " 233,\n",
              " 54,\n",
              " 287,\n",
              " 63,\n",
              " 2,\n",
              " 23,\n",
              " 43,\n",
              " 96,\n",
              " 85,\n",
              " 278,\n",
              " 97,\n",
              " 78,\n",
              " 17,\n",
              " 38,\n",
              " 176,\n",
              " 41,\n",
              " 82,\n",
              " 179,\n",
              " 34,\n",
              " 163,\n",
              " 10,\n",
              " 79,\n",
              " 189,\n",
              " 179,\n",
              " 90,\n",
              " 244,\n",
              " 15,\n",
              " 61,\n",
              " 31,\n",
              " 127,\n",
              " 114,\n",
              " 109,\n",
              " 22,\n",
              " 132,\n",
              " 87,\n",
              " 117,\n",
              " 415,\n",
              " 27,\n",
              " 64,\n",
              " 30,\n",
              " 191,\n",
              " 56,\n",
              " 23,\n",
              " 233,\n",
              " 55,\n",
              " 200,\n",
              " 16,\n",
              " 234,\n",
              " 297,\n",
              " 278,\n",
              " 115,\n",
              " 296,\n",
              " 256,\n",
              " 91,\n",
              " 35,\n",
              " 24,\n",
              " 2,\n",
              " 69,\n",
              " 138,\n",
              " 69,\n",
              " 44,\n",
              " 86,\n",
              " 166,\n",
              " 70,\n",
              " 186,\n",
              " 180,\n",
              " 214,\n",
              " 36,\n",
              " 610,\n",
              " 43,\n",
              " 23,\n",
              " 14,\n",
              " 72,\n",
              " 43,\n",
              " 257,\n",
              " 139,\n",
              " 32,\n",
              " 108,\n",
              " 15,\n",
              " 109,\n",
              " 88,\n",
              " 40,\n",
              " 143,\n",
              " 21,\n",
              " 216,\n",
              " 154,\n",
              " 65,\n",
              " 28,\n",
              " 250,\n",
              " 39,\n",
              " 55,\n",
              " 130,\n",
              " 27,\n",
              " 567,\n",
              " 63,\n",
              " 198,\n",
              " 253,\n",
              " 142,\n",
              " 191,\n",
              " 370,\n",
              " 271,\n",
              " 350,\n",
              " 23,\n",
              " 86,\n",
              " 76,\n",
              " 219,\n",
              " 219,\n",
              " 80,\n",
              " 564,\n",
              " 55,\n",
              " 94,\n",
              " 50,\n",
              " ...]"
            ]
          },
          "metadata": {
            "tags": []
          },
          "execution_count": 30
        }
      ]
    },
    {
      "metadata": {
        "id": "s0z9YjSqyeJd",
        "colab_type": "code",
        "colab": {}
      },
      "cell_type": "code",
      "source": [
        "import matplotlib.pyplot as plt"
      ],
      "execution_count": 0,
      "outputs": []
    },
    {
      "metadata": {
        "id": "KyfkgMBgykf9",
        "colab_type": "code",
        "outputId": "62ccb694-11a9-4e1d-d964-6228ec24974f",
        "colab": {
          "base_uri": "https://localhost:8080/",
          "height": 438
        }
      },
      "cell_type": "code",
      "source": [
        "plt.hist(lens)"
      ],
      "execution_count": 0,
      "outputs": [
        {
          "output_type": "execute_result",
          "data": {
            "text/plain": [
              "(array([8197., 4685., 1779.,  710.,  313.,  142.,   79.,   44.,   29.,\n",
              "          22.]),\n",
              " array([  0. ,  98.7, 197.4, 296.1, 394.8, 493.5, 592.2, 690.9, 789.6,\n",
              "        888.3, 987. ]),\n",
              " <a list of 10 Patch objects>)"
            ]
          },
          "metadata": {
            "tags": []
          },
          "execution_count": 32
        },
        {
          "output_type": "display_data",
          "data": {
            "image/png": "[encoded data removed]",
            "text/plain": [
              "<Figure size 576x396 with 1 Axes>"
            ]
          },
          "metadata": {
            "tags": []
          }
        }
      ]
    },
    {
      "metadata": {
        "id": "DK8PZNcpylNd",
        "colab_type": "code",
        "colab": {}
      },
      "cell_type": "code",
      "source": [
        "maxlen = 400"
      ],
      "execution_count": 0,
      "outputs": []
    },
    {
      "metadata": {
        "id": "Gy8Uf15ny99d",
        "colab_type": "code",
        "colab": {}
      },
      "cell_type": "code",
      "source": [
        "X_train = pad_sequences(train_sequences, maxlen=maxlen)"
      ],
      "execution_count": 0,
      "outputs": []
    },
    {
      "metadata": {
        "id": "wg6cishszDAe",
        "colab_type": "code",
        "outputId": "40f38499-fc26-40a8-e05f-134c720b7a08",
        "colab": {
          "base_uri": "https://localhost:8080/",
          "height": 144
        }
      },
      "cell_type": "code",
      "source": [
        "X_train"
      ],
      "execution_count": 0,
      "outputs": [
        {
          "output_type": "execute_result",
          "data": {
            "text/plain": [
              "array([[   0,    0,    0, ..., 7344,   20, 6413],\n",
              "       [   0,    0,    0, ..., 1076,    1,  783],\n",
              "       [   0,    0,    0, ...,  214,   18,   34],\n",
              "       ...,\n",
              "       [   0,    0,    0, ...,   48,    7, 4439],\n",
              "       [   0,    0,    0, ...,   13,   20,   57],\n",
              "       [   0,    0,    0, ...,  463, 2985,  779]], dtype=int32)"
            ]
          },
          "metadata": {
            "tags": []
          },
          "execution_count": 35
        }
      ]
    },
    {
      "metadata": {
        "id": "KEzdNYr_zEad",
        "colab_type": "code",
        "outputId": "b0713aca-d9ad-4e87-d24c-f75cf1069672",
        "colab": {
          "base_uri": "https://localhost:8080/",
          "height": 35
        }
      },
      "cell_type": "code",
      "source": [
        "X_train.shape"
      ],
      "execution_count": 0,
      "outputs": [
        {
          "output_type": "execute_result",
          "data": {
            "text/plain": [
              "(16000, 400)"
            ]
          },
          "metadata": {
            "tags": []
          },
          "execution_count": 36
        }
      ]
    },
    {
      "metadata": {
        "id": "xEXJFV6rzL6N",
        "colab_type": "code",
        "colab": {}
      },
      "cell_type": "code",
      "source": [
        "X_valid = pad_sequences(valid_sequences, maxlen=maxlen)\n",
        "X_test = pad_sequences(test_sequences, maxlen=maxlen)"
      ],
      "execution_count": 0,
      "outputs": []
    },
    {
      "metadata": {
        "id": "RQoalI8szrjt",
        "colab_type": "code",
        "colab": {}
      },
      "cell_type": "code",
      "source": [
        "y_train = train.sentiment\n",
        "y_valid = valid.sentiment\n",
        "y_test = test.sentiment"
      ],
      "execution_count": 0,
      "outputs": []
    },
    {
      "metadata": {
        "id": "tTJSo05Wz23u",
        "colab_type": "code",
        "colab": {}
      },
      "cell_type": "code",
      "source": [
        "import spacy"
      ],
      "execution_count": 0,
      "outputs": []
    },
    {
      "metadata": {
        "id": "gJ3peoGo0A_N",
        "colab_type": "code",
        "outputId": "07453a3a-391f-4dd8-9ae4-30be63b5bdc2",
        "colab": {
          "base_uri": "https://localhost:8080/",
          "height": 144
        }
      },
      "cell_type": "code",
      "source": [
        "spacy.cli.download(\"en_core_web_lg\")"
      ],
      "execution_count": 0,
      "outputs": [
        {
          "output_type": "stream",
          "text": [
            "\n",
            "\u001b[93m    Linking successful\u001b[0m\n",
            "    /usr/local/lib/python3.6/dist-packages/en_core_web_lg -->\n",
            "    /usr/local/lib/python3.6/dist-packages/spacy/data/en_core_web_lg\n",
            "\n",
            "    You can now load the model via spacy.load('en_core_web_lg')\n",
            "\n"
          ],
          "name": "stdout"
        }
      ]
    },
    {
      "metadata": {
        "id": "qnx4Mxmg0DQN",
        "colab_type": "code",
        "colab": {}
      },
      "cell_type": "code",
      "source": [
        "nlp = spacy.load(\"en_core_web_lg\")"
      ],
      "execution_count": 0,
      "outputs": []
    },
    {
      "metadata": {
        "id": "P1xqdhsX0IH-",
        "colab_type": "code",
        "outputId": "2efeef8c-b168-4251-edc3-b9ed8ef34add",
        "colab": {
          "base_uri": "https://localhost:8080/",
          "height": 1127
        }
      },
      "cell_type": "code",
      "source": [
        "nlp.vocab[\"the\"].vector"
      ],
      "execution_count": 0,
      "outputs": [
        {
          "output_type": "execute_result",
          "data": {
            "text/plain": [
              "array([ 2.7204e-01, -6.2030e-02, -1.8840e-01,  2.3225e-02, -1.8158e-02,\n",
              "        6.7192e-03, -1.3877e-01,  1.7708e-01,  1.7709e-01,  2.5882e+00,\n",
              "       -3.5179e-01, -1.7312e-01,  4.3285e-01, -1.0708e-01,  1.5006e-01,\n",
              "       -1.9982e-01, -1.9093e-01,  1.1871e+00, -1.6207e-01, -2.3538e-01,\n",
              "        3.6640e-03, -1.9156e-01, -8.5662e-02,  3.9199e-02, -6.6449e-02,\n",
              "       -4.2090e-02, -1.9122e-01,  1.1679e-02, -3.7138e-01,  2.1886e-01,\n",
              "        1.1423e-03,  4.3190e-01, -1.4205e-01,  3.8059e-01,  3.0654e-01,\n",
              "        2.0167e-02, -1.8316e-01, -6.5186e-03, -8.0549e-03, -1.2063e-01,\n",
              "        2.7507e-02,  2.9839e-01, -2.2896e-01, -2.2882e-01,  1.4671e-01,\n",
              "       -7.6301e-02, -1.2680e-01, -6.6651e-03, -5.2795e-02,  1.4258e-01,\n",
              "        1.5610e-01,  5.5510e-02, -1.6149e-01,  9.6290e-02, -7.6533e-02,\n",
              "       -4.9971e-02, -1.0195e-02, -4.7641e-02, -1.6679e-01, -2.3940e-01,\n",
              "        5.0141e-03, -4.9175e-02,  1.3338e-02,  4.1923e-01, -1.0104e-01,\n",
              "        1.5111e-02, -7.7706e-02, -1.3471e-01,  1.1900e-01,  1.0802e-01,\n",
              "        2.1061e-01, -5.1904e-02,  1.8527e-01,  1.7856e-01,  4.1293e-02,\n",
              "       -1.4385e-02, -8.2567e-02, -3.5483e-02, -7.6173e-02, -4.5367e-02,\n",
              "        8.9281e-02,  3.3672e-01, -2.2099e-01, -6.7275e-03,  2.3983e-01,\n",
              "       -2.3147e-01, -8.8592e-01,  9.1297e-02, -1.2123e-02,  1.3233e-02,\n",
              "       -2.5799e-01, -2.9720e-02,  1.6754e-02,  1.3690e-02,  3.2377e-01,\n",
              "        3.9546e-02,  4.2114e-02, -8.8243e-02,  3.0318e-01,  8.7747e-02,\n",
              "        1.6346e-01, -4.0485e-01, -4.3845e-02, -4.0697e-02,  2.0936e-01,\n",
              "       -7.7795e-01,  2.9970e-01,  2.3340e-01,  1.4891e-01, -3.9037e-01,\n",
              "       -5.3086e-02,  6.2922e-02,  6.5663e-02, -1.3906e-01,  9.4193e-02,\n",
              "        1.0344e-01, -2.7970e-01,  2.8905e-01, -3.2161e-01,  2.0687e-02,\n",
              "        6.3254e-02, -2.3257e-01, -4.3520e-01, -1.7049e-02, -3.2744e-01,\n",
              "       -4.7064e-02, -7.5149e-02, -1.8788e-01, -1.5017e-02,  2.9342e-02,\n",
              "       -3.5270e-01, -4.4278e-02, -1.3507e-01, -1.1644e-01, -1.0430e-01,\n",
              "        1.3920e-01,  3.9199e-03,  3.7603e-01,  6.7217e-02, -3.7992e-01,\n",
              "       -1.1241e+00, -5.7357e-02, -1.6826e-01,  3.9410e-02,  2.6040e-01,\n",
              "       -2.3866e-02,  1.7963e-01,  1.3553e-01,  2.1390e-01,  5.2633e-02,\n",
              "       -2.5033e-01, -1.1307e-01,  2.2234e-01,  6.6597e-02, -1.1161e-01,\n",
              "        6.2438e-02, -2.7972e-01,  1.9878e-01, -3.6262e-01, -1.0006e-05,\n",
              "       -1.7262e-01,  2.9166e-01, -1.5723e-01,  5.4295e-02,  6.1010e-02,\n",
              "       -3.9165e-01,  2.7660e-01,  5.7816e-02,  3.9709e-01,  2.5229e-02,\n",
              "        2.4672e-01, -8.9050e-02,  1.5683e-01, -2.0960e-01, -2.2196e-01,\n",
              "        5.2394e-02, -1.1360e-02,  5.0417e-02, -1.4023e-01, -4.2825e-02,\n",
              "       -3.1931e-02, -2.1336e-01, -2.0402e-01, -2.3272e-01,  7.4490e-02,\n",
              "        8.8202e-02, -1.1063e-01, -3.3526e-01, -1.4028e-02, -2.9429e-01,\n",
              "       -8.6911e-02, -1.3210e-01, -4.3616e-01,  2.0513e-01,  7.9362e-03,\n",
              "        4.8505e-01,  6.4237e-02,  1.4261e-01, -4.3711e-01,  1.2783e-01,\n",
              "       -1.3111e-01,  2.4673e-01, -2.7496e-01,  1.5896e-01,  4.3314e-01,\n",
              "        9.0286e-02,  2.4662e-01,  6.6463e-02, -2.0099e-01,  1.1010e-01,\n",
              "        3.6440e-02,  1.7359e-01, -1.5689e-01, -8.6328e-02, -1.7316e-01,\n",
              "        3.6975e-01, -4.0317e-01, -6.4814e-02, -3.4166e-02, -1.3773e-02,\n",
              "        6.2854e-02, -1.7183e-01, -1.2366e-01, -3.4663e-02, -2.2793e-01,\n",
              "       -2.3172e-01,  2.3900e-01,  2.7473e-01,  1.5332e-01,  1.0661e-01,\n",
              "       -6.0982e-02, -2.4805e-02, -1.3478e-01,  1.7932e-01, -3.7374e-01,\n",
              "       -2.8930e-02, -1.1142e-01, -8.3890e-02, -5.5932e-02,  6.8039e-02,\n",
              "       -1.0783e-01,  1.4650e-01,  9.4617e-02, -8.4554e-02,  6.7429e-02,\n",
              "       -3.2910e-01,  3.4082e-02, -1.6747e-01, -2.5997e-01, -2.2917e-01,\n",
              "        2.0159e-02, -2.7580e-02,  1.6136e-01, -1.8538e-01,  3.7665e-02,\n",
              "        5.7603e-01,  2.0684e-01,  2.7941e-01,  1.6477e-01, -1.8769e-02,\n",
              "        1.2062e-01,  6.9648e-02,  5.9022e-02, -2.3154e-01,  2.4095e-01,\n",
              "       -3.4710e-01,  4.8540e-02, -5.6502e-02,  4.1566e-01, -4.3194e-01,\n",
              "        4.8230e-01, -5.1759e-02, -2.7285e-01, -2.5893e-01,  1.6555e-01,\n",
              "       -1.8310e-01, -6.7340e-02,  4.2457e-01,  1.0346e-02,  1.4237e-01,\n",
              "        2.5939e-01,  1.7123e-01, -1.3821e-01, -6.6846e-02,  1.5981e-02,\n",
              "       -3.0193e-01,  4.3579e-02, -4.3102e-02,  3.5025e-01, -1.9681e-01,\n",
              "       -4.2810e-01,  1.6899e-01,  2.2511e-01, -2.8557e-01, -1.0280e-01,\n",
              "       -1.8168e-02,  1.1407e-01,  1.3015e-01, -1.8317e-01,  1.3230e-01],\n",
              "      dtype=float32)"
            ]
          },
          "metadata": {
            "tags": []
          },
          "execution_count": 42
        }
      ]
    },
    {
      "metadata": {
        "id": "NnEWtHQm1Jg9",
        "colab_type": "code",
        "outputId": "de134433-00e2-4731-f9e6-bf62ae240749",
        "colab": {
          "base_uri": "https://localhost:8080/",
          "height": 438
        }
      },
      "cell_type": "code",
      "source": [
        "plt.hist(nlp.vocab[\"the\"].vector)"
      ],
      "execution_count": 0,
      "outputs": [
        {
          "output_type": "execute_result",
          "data": {
            "text/plain": [
              "(array([  3.,   9., 140., 133.,  13.,   0.,   1.,   0.,   0.,   1.]),\n",
              " array([-1.12409997, -0.75286996, -0.38163996, -0.01040995,  0.36082006,\n",
              "         0.73205006,  1.10328007,  1.47451007,  1.84574008,  2.21697009,\n",
              "         2.58820009]),\n",
              " <a list of 10 Patch objects>)"
            ]
          },
          "metadata": {
            "tags": []
          },
          "execution_count": 43
        },
        {
          "output_type": "display_data",
          "data": {
            "image/png": "[encoded data removed]",
            "text/plain": [
              "<Figure size 576x396 with 1 Axes>"
            ]
          },
          "metadata": {
            "tags": []
          }
        }
      ]
    },
    {
      "metadata": {
        "id": "kzsEbp2i2MRA",
        "colab_type": "code",
        "colab": {}
      },
      "cell_type": "code",
      "source": [
        "embedding_dim = nlp.vocab.vectors_length"
      ],
      "execution_count": 0,
      "outputs": []
    },
    {
      "metadata": {
        "id": "qxFOjm625pnQ",
        "colab_type": "code",
        "outputId": "a1948738-351b-4dcc-90bc-8bb2841f3a97",
        "colab": {
          "base_uri": "https://localhost:8080/",
          "height": 35
        }
      },
      "cell_type": "code",
      "source": [
        "embedding_dim"
      ],
      "execution_count": 0,
      "outputs": [
        {
          "output_type": "execute_result",
          "data": {
            "text/plain": [
              "300"
            ]
          },
          "metadata": {
            "tags": []
          },
          "execution_count": 45
        }
      ]
    },
    {
      "metadata": {
        "id": "9iomV6Us5rU_",
        "colab_type": "code",
        "colab": {}
      },
      "cell_type": "code",
      "source": [
        "nlp.vocab[\"you're\"].vector"
      ],
      "execution_count": 0,
      "outputs": []
    },
    {
      "metadata": {
        "id": "dVtgWTSY7uAq",
        "colab_type": "code",
        "outputId": "c63d1830-3132-48b5-b840-d9b683c6d6b8",
        "colab": {
          "base_uri": "https://localhost:8080/",
          "height": 381
        }
      },
      "cell_type": "code",
      "source": [
        "list(tokenizer.index_word.items())[:20]"
      ],
      "execution_count": 0,
      "outputs": [
        {
          "output_type": "execute_result",
          "data": {
            "text/plain": [
              "[(1, 'the'),\n",
              " (2, 'and'),\n",
              " (3, 'i'),\n",
              " (4, 'to'),\n",
              " (5, 'a'),\n",
              " (6, 'was'),\n",
              " (7, 'of'),\n",
              " (8, 'it'),\n",
              " (9, 'for'),\n",
              " (10, 'in'),\n",
              " (11, 'is'),\n",
              " (12, 'n'),\n",
              " (13, 'that'),\n",
              " (14, 'my'),\n",
              " (15, 'we'),\n",
              " (16, 'this'),\n",
              " (17, 'but'),\n",
              " (18, 'with'),\n",
              " (19, 'they'),\n",
              " (20, 'you')]"
            ]
          },
          "metadata": {
            "tags": []
          },
          "execution_count": 46
        }
      ]
    },
    {
      "metadata": {
        "id": "eTO7jlek7ugQ",
        "colab_type": "code",
        "outputId": "91f4cdc1-7d4b-4ee2-ea7b-38bf1f6bf706",
        "colab": {
          "base_uri": "https://localhost:8080/",
          "height": 927
        }
      },
      "cell_type": "code",
      "source": [
        "list(tokenizer.index_word.items())[9950:10000]"
      ],
      "execution_count": 0,
      "outputs": [
        {
          "output_type": "execute_result",
          "data": {
            "text/plain": [
              "[(9951, 'hostile'),\n",
              " (9952, 'salvage'),\n",
              " (9953, '41'),\n",
              " (9954, 'appliance'),\n",
              " (9955, 'critics'),\n",
              " (9956, 'curtain'),\n",
              " (9957, 'unimpressive'),\n",
              " (9958, 'unfair'),\n",
              " (9959, 'misery'),\n",
              " (9960, 'strolling'),\n",
              " (9961, 'oral'),\n",
              " (9962, 'deduct'),\n",
              " (9963, 'smattering'),\n",
              " (9964, 'daylight'),\n",
              " (9965, 'famished'),\n",
              " (9966, 'yorker'),\n",
              " (9967, \"sally's\"),\n",
              " (9968, 'understandably'),\n",
              " (9969, 'livingsocial'),\n",
              " (9970, 'elaborate'),\n",
              " (9971, 'cruiser'),\n",
              " (9972, 'collard'),\n",
              " (9973, 'carmel'),\n",
              " (9974, 'engineering'),\n",
              " (9975, 'nsushi'),\n",
              " (9976, 'blessed'),\n",
              " (9977, 'rewarded'),\n",
              " (9978, 'firehouse'),\n",
              " (9979, 'fitted'),\n",
              " (9980, 'underwear'),\n",
              " (9981, 'vacuuming'),\n",
              " (9982, \"danny's\"),\n",
              " (9983, \"joey's\"),\n",
              " (9984, 'npad'),\n",
              " (9985, 'lurking'),\n",
              " (9986, 'lana'),\n",
              " (9987, 'existant'),\n",
              " (9988, 'n1st'),\n",
              " (9989, 'n2nd'),\n",
              " (9990, 'pencil'),\n",
              " (9991, 'rust'),\n",
              " (9992, 'dreaded'),\n",
              " (9993, 'cultures'),\n",
              " (9994, 'wiping'),\n",
              " (9995, 'sundaes'),\n",
              " (9996, 'fur'),\n",
              " (9997, 'pureed'),\n",
              " (9998, 'stretched'),\n",
              " (9999, 'conveyor'),\n",
              " (10000, 'wright')]"
            ]
          },
          "metadata": {
            "tags": []
          },
          "execution_count": 52
        }
      ]
    },
    {
      "metadata": {
        "id": "YSfe7cim7--g",
        "colab_type": "code",
        "outputId": "f74f6405-7ae5-4bfb-bd6d-0d40d597e12e",
        "colab": {
          "base_uri": "https://localhost:8080/",
          "height": 345
        }
      },
      "cell_type": "code",
      "source": [
        "nlp.vocab['n1st'].vector"
      ],
      "execution_count": 0,
      "outputs": [
        {
          "output_type": "execute_result",
          "data": {
            "text/plain": [
              "array([0., 0., 0., 0., 0., 0., 0., 0., 0., 0., 0., 0., 0., 0., 0., 0., 0.,\n",
              "       0., 0., 0., 0., 0., 0., 0., 0., 0., 0., 0., 0., 0., 0., 0., 0., 0.,\n",
              "       0., 0., 0., 0., 0., 0., 0., 0., 0., 0., 0., 0., 0., 0., 0., 0., 0.,\n",
              "       0., 0., 0., 0., 0., 0., 0., 0., 0., 0., 0., 0., 0., 0., 0., 0., 0.,\n",
              "       0., 0., 0., 0., 0., 0., 0., 0., 0., 0., 0., 0., 0., 0., 0., 0., 0.,\n",
              "       0., 0., 0., 0., 0., 0., 0., 0., 0., 0., 0., 0., 0., 0., 0., 0., 0.,\n",
              "       0., 0., 0., 0., 0., 0., 0., 0., 0., 0., 0., 0., 0., 0., 0., 0., 0.,\n",
              "       0., 0., 0., 0., 0., 0., 0., 0., 0., 0., 0., 0., 0., 0., 0., 0., 0.,\n",
              "       0., 0., 0., 0., 0., 0., 0., 0., 0., 0., 0., 0., 0., 0., 0., 0., 0.,\n",
              "       0., 0., 0., 0., 0., 0., 0., 0., 0., 0., 0., 0., 0., 0., 0., 0., 0.,\n",
              "       0., 0., 0., 0., 0., 0., 0., 0., 0., 0., 0., 0., 0., 0., 0., 0., 0.,\n",
              "       0., 0., 0., 0., 0., 0., 0., 0., 0., 0., 0., 0., 0., 0., 0., 0., 0.,\n",
              "       0., 0., 0., 0., 0., 0., 0., 0., 0., 0., 0., 0., 0., 0., 0., 0., 0.,\n",
              "       0., 0., 0., 0., 0., 0., 0., 0., 0., 0., 0., 0., 0., 0., 0., 0., 0.,\n",
              "       0., 0., 0., 0., 0., 0., 0., 0., 0., 0., 0., 0., 0., 0., 0., 0., 0.,\n",
              "       0., 0., 0., 0., 0., 0., 0., 0., 0., 0., 0., 0., 0., 0., 0., 0., 0.,\n",
              "       0., 0., 0., 0., 0., 0., 0., 0., 0., 0., 0., 0., 0., 0., 0., 0., 0.,\n",
              "       0., 0., 0., 0., 0., 0., 0., 0., 0., 0., 0.], dtype=float32)"
            ]
          },
          "metadata": {
            "tags": []
          },
          "execution_count": 53
        }
      ]
    },
    {
      "metadata": {
        "id": "n7aTz6MS9Q5A",
        "colab_type": "code",
        "colab": {}
      },
      "cell_type": "code",
      "source": [
        "embedding_matrix = np.random.rand(num_words + 1, embedding_dim)"
      ],
      "execution_count": 0,
      "outputs": []
    },
    {
      "metadata": {
        "id": "twUcNSHy9jix",
        "colab_type": "code",
        "outputId": "b223cf96-6b8a-4f96-dd10-78b65c58645d",
        "colab": {
          "base_uri": "https://localhost:8080/",
          "height": 35
        }
      },
      "cell_type": "code",
      "source": [
        "embedding_matrix.shape"
      ],
      "execution_count": 0,
      "outputs": [
        {
          "output_type": "execute_result",
          "data": {
            "text/plain": [
              "(10001, 300)"
            ]
          },
          "metadata": {
            "tags": []
          },
          "execution_count": 55
        }
      ]
    },
    {
      "metadata": {
        "id": "vINe6mf29sYg",
        "colab_type": "code",
        "outputId": "9b016b23-6897-4173-bc55-b28d9082c4f8",
        "colab": {
          "base_uri": "https://localhost:8080/",
          "height": 438
        }
      },
      "cell_type": "code",
      "source": [
        "plt.hist(embedding_matrix[0])"
      ],
      "execution_count": 0,
      "outputs": [
        {
          "output_type": "execute_result",
          "data": {
            "text/plain": [
              "(array([31., 28., 35., 37., 22., 27., 32., 29., 27., 32.]),\n",
              " array([7.00458302e-04, 1.00216327e-01, 1.99732195e-01, 2.99248064e-01,\n",
              "        3.98763933e-01, 4.98279801e-01, 5.97795670e-01, 6.97311538e-01,\n",
              "        7.96827407e-01, 8.96343275e-01, 9.95859144e-01]),\n",
              " <a list of 10 Patch objects>)"
            ]
          },
          "metadata": {
            "tags": []
          },
          "execution_count": 56
        },
        {
          "output_type": "display_data",
          "data": {
            "image/png": "[encoded data removed]",
            "text/plain": [
              "<Figure size 576x396 with 1 Axes>"
            ]
          },
          "metadata": {
            "tags": []
          }
        }
      ]
    },
    {
      "metadata": {
        "id": "k5ODpI8s9xbR",
        "colab_type": "code",
        "colab": {}
      },
      "cell_type": "code",
      "source": [
        "embedding_matrix = (embedding_matrix - 0.5) * 4"
      ],
      "execution_count": 0,
      "outputs": []
    },
    {
      "metadata": {
        "id": "hhQFsjsc-okg",
        "colab_type": "code",
        "outputId": "6f7367ae-7a0f-4e07-dda4-7cf6bbb00983",
        "colab": {
          "base_uri": "https://localhost:8080/",
          "height": 438
        }
      },
      "cell_type": "code",
      "source": [
        "plt.hist(embedding_matrix[0])"
      ],
      "execution_count": 0,
      "outputs": [
        {
          "output_type": "execute_result",
          "data": {
            "text/plain": [
              "(array([31., 28., 35., 37., 22., 27., 32., 29., 27., 32.]),\n",
              " array([-1.99719817, -1.59913469, -1.20107122, -0.80300774, -0.40494427,\n",
              "        -0.0068808 ,  0.39118268,  0.78924615,  1.18730963,  1.5853731 ,\n",
              "         1.98343658]),\n",
              " <a list of 10 Patch objects>)"
            ]
          },
          "metadata": {
            "tags": []
          },
          "execution_count": 58
        },
        {
          "output_type": "display_data",
          "data": {
            "image/png": "[encoded data removed]",
            "text/plain": [
              "<Figure size 576x396 with 1 Axes>"
            ]
          },
          "metadata": {
            "tags": []
          }
        }
      ]
    },
    {
      "metadata": {
        "id": "HgD3aQBB-qxW",
        "colab_type": "code",
        "colab": {}
      },
      "cell_type": "code",
      "source": [
        "for word, i in list(tokenizer.word_index.items())[:num_words]:\n",
        "  try:\n",
        "    embedding_vector = nlp.vocab[word].vector\n",
        "    embedding_matrix[i] = embedding_vector\n",
        "  except:\n",
        "    pass\n"
      ],
      "execution_count": 0,
      "outputs": []
    },
    {
      "metadata": {
        "id": "1yI4U4fc_Sfi",
        "colab_type": "code",
        "outputId": "63110835-747c-4c2a-f0df-a8f8f68ee12c",
        "colab": {
          "base_uri": "https://localhost:8080/",
          "height": 254
        }
      },
      "cell_type": "code",
      "source": [
        "embedding_matrix[:10]"
      ],
      "execution_count": 0,
      "outputs": [
        {
          "output_type": "execute_result",
          "data": {
            "text/plain": [
              "array([[ 1.54153601e+00, -1.08534757e+00, -2.49630875e-02, ...,\n",
              "         9.07328308e-01,  5.81137253e-01, -4.22590188e-01],\n",
              "       [ 2.72040009e-01, -6.20299987e-02, -1.88400000e-01, ...,\n",
              "         1.30150005e-01, -1.83170006e-01,  1.32300004e-01],\n",
              "       [-1.85670003e-01,  6.60080016e-02, -2.52090007e-01, ...,\n",
              "        -2.34520007e-02,  1.23020001e-01,  3.31200004e-01],\n",
              "       ...,\n",
              "       [ 6.02159984e-02,  2.17989996e-01, -4.24900018e-02, ...,\n",
              "         1.17090002e-01, -1.66920006e-01, -9.40850005e-02],\n",
              "       [ 1.36290002e-03,  3.56530011e-01, -5.54970019e-02, ...,\n",
              "        -1.12369999e-01,  7.82589987e-02,  2.23979995e-01],\n",
              "       [-1.72240004e-01,  1.82339996e-01, -2.78470010e-01, ...,\n",
              "        -1.26680002e-01, -4.38560009e-01,  3.87650013e-01]])"
            ]
          },
          "metadata": {
            "tags": []
          },
          "execution_count": 60
        }
      ]
    },
    {
      "metadata": {
        "id": "r0CFVV3i_VIh",
        "colab_type": "code",
        "colab": {}
      },
      "cell_type": "code",
      "source": [
        "from keras.models import Sequential"
      ],
      "execution_count": 0,
      "outputs": []
    },
    {
      "metadata": {
        "id": "9z88caXr_fdx",
        "colab_type": "code",
        "colab": {}
      },
      "cell_type": "code",
      "source": [
        "from keras.layers import Embedding, Flatten, Dense, LSTM"
      ],
      "execution_count": 0,
      "outputs": []
    },
    {
      "metadata": {
        "id": "BdssXAML_jQC",
        "colab_type": "code",
        "colab": {}
      },
      "cell_type": "code",
      "source": [
        "units = 32"
      ],
      "execution_count": 0,
      "outputs": []
    },
    {
      "metadata": {
        "id": "NLlxwVel_sBR",
        "colab_type": "code",
        "colab": {}
      },
      "cell_type": "code",
      "source": [
        "model = Sequential()"
      ],
      "execution_count": 0,
      "outputs": []
    },
    {
      "metadata": {
        "id": "TD5NuJGm_zSw",
        "colab_type": "code",
        "outputId": "60a4364e-7bb6-4742-8b91-fe1c5e8667ef",
        "colab": {
          "base_uri": "https://localhost:8080/",
          "height": 92
        }
      },
      "cell_type": "code",
      "source": [
        "model.add(Embedding(num_words + 1, embedding_dim))\n",
        "model.add(LSTM(units))\n",
        "model.add(Dense(1, activation='sigmoid'))"
      ],
      "execution_count": 0,
      "outputs": [
        {
          "output_type": "stream",
          "text": [
            "WARNING:tensorflow:From /usr/local/lib/python3.6/dist-packages/tensorflow/python/framework/op_def_library.py:263: colocate_with (from tensorflow.python.framework.ops) is deprecated and will be removed in a future version.\n",
            "Instructions for updating:\n",
            "Colocations handled automatically by placer.\n"
          ],
          "name": "stdout"
        }
      ]
    },
    {
      "metadata": {
        "id": "baac0AXRAG6R",
        "colab_type": "code",
        "outputId": "0cc1a562-3a7a-49cb-83bb-75156250dc10",
        "colab": {
          "base_uri": "https://localhost:8080/",
          "height": 254
        }
      },
      "cell_type": "code",
      "source": [
        "model.summary()"
      ],
      "execution_count": 0,
      "outputs": [
        {
          "output_type": "stream",
          "text": [
            "_________________________________________________________________\n",
            "Layer (type)                 Output Shape              Param #   \n",
            "=================================================================\n",
            "embedding_1 (Embedding)      (None, None, 300)         3000300   \n",
            "_________________________________________________________________\n",
            "lstm_1 (LSTM)                (None, 32)                42624     \n",
            "_________________________________________________________________\n",
            "dense_1 (Dense)              (None, 1)                 33        \n",
            "=================================================================\n",
            "Total params: 3,042,957\n",
            "Trainable params: 3,042,957\n",
            "Non-trainable params: 0\n",
            "_________________________________________________________________\n"
          ],
          "name": "stdout"
        }
      ]
    },
    {
      "metadata": {
        "id": "mQLwuW6uAI9g",
        "colab_type": "code",
        "colab": {}
      },
      "cell_type": "code",
      "source": [
        "model.layers[0].set_weights([embedding_matrix])"
      ],
      "execution_count": 0,
      "outputs": []
    },
    {
      "metadata": {
        "id": "DipISSDBAX8h",
        "colab_type": "code",
        "colab": {}
      },
      "cell_type": "code",
      "source": [
        "model.layers[0].trainable = False"
      ],
      "execution_count": 0,
      "outputs": []
    },
    {
      "metadata": {
        "id": "lWDW18oBAiPR",
        "colab_type": "code",
        "colab": {}
      },
      "cell_type": "code",
      "source": [
        "model.compile(optimizer='rmsprop',\n",
        "             loss='binary_crossentropy',\n",
        "             metrics=['acc'])"
      ],
      "execution_count": 0,
      "outputs": []
    },
    {
      "metadata": {
        "id": "NYII5NMoAtlR",
        "colab_type": "code",
        "outputId": "f7ec4012-1414-428c-8e34-2e6c54b2b088",
        "colab": {
          "base_uri": "https://localhost:8080/",
          "height": 474
        }
      },
      "cell_type": "code",
      "source": [
        "history = model.fit(X_train, y_train,\n",
        "                   epochs=10,\n",
        "                   batch_size=32,\n",
        "                   validation_data = (X_valid, y_valid))"
      ],
      "execution_count": 0,
      "outputs": [
        {
          "output_type": "stream",
          "text": [
            "WARNING:tensorflow:From /usr/local/lib/python3.6/dist-packages/tensorflow/python/ops/math_ops.py:3066: to_int32 (from tensorflow.python.ops.math_ops) is deprecated and will be removed in a future version.\n",
            "Instructions for updating:\n",
            "Use tf.cast instead.\n",
            "Train on 16000 samples, validate on 4000 samples\n",
            "Epoch 1/10\n",
            "16000/16000 [==============================] - 159s 10ms/step - loss: 0.4380 - acc: 0.8032 - val_loss: 0.3353 - val_acc: 0.8658\n",
            "Epoch 2/10\n",
            "16000/16000 [==============================] - 159s 10ms/step - loss: 0.3162 - acc: 0.8724 - val_loss: 0.2849 - val_acc: 0.8865\n",
            "Epoch 3/10\n",
            "16000/16000 [==============================] - 156s 10ms/step - loss: 0.2594 - acc: 0.8945 - val_loss: 0.2573 - val_acc: 0.8968\n",
            "Epoch 4/10\n",
            "16000/16000 [==============================] - 160s 10ms/step - loss: 0.2216 - acc: 0.9122 - val_loss: 0.2406 - val_acc: 0.9038\n",
            "Epoch 5/10\n",
            "16000/16000 [==============================] - 154s 10ms/step - loss: 0.1959 - acc: 0.9209 - val_loss: 0.2400 - val_acc: 0.9020\n",
            "Epoch 6/10\n",
            "16000/16000 [==============================] - 153s 10ms/step - loss: 0.1753 - acc: 0.9296 - val_loss: 0.2299 - val_acc: 0.9075\n",
            "Epoch 7/10\n",
            "16000/16000 [==============================] - 151s 9ms/step - loss: 0.1553 - acc: 0.9396 - val_loss: 0.2553 - val_acc: 0.8955\n",
            "Epoch 8/10\n",
            "16000/16000 [==============================] - 152s 10ms/step - loss: 0.1347 - acc: 0.9467 - val_loss: 0.2390 - val_acc: 0.9110\n",
            "Epoch 9/10\n",
            "16000/16000 [==============================] - 152s 10ms/step - loss: 0.1191 - acc: 0.9554 - val_loss: 0.2460 - val_acc: 0.9117\n",
            "Epoch 10/10\n",
            "16000/16000 [==============================] - 152s 10ms/step - loss: 0.1042 - acc: 0.9611 - val_loss: 0.2600 - val_acc: 0.9115\n"
          ],
          "name": "stdout"
        }
      ]
    },
    {
      "metadata": {
        "id": "rtxKe_QjBC6R",
        "colab_type": "code",
        "colab": {}
      },
      "cell_type": "code",
      "source": [
        ""
      ],
      "execution_count": 0,
      "outputs": []
    }
  ]
}