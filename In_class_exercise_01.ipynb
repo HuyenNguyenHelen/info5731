{
  "nbformat": 4,
  "nbformat_minor": 0,
  "metadata": {
    "colab": {
      "name": "Copy of In_class_exercise_01.ipynb",
      "provenance": [],
      "collapsed_sections": [],
      "include_colab_link": true
    },
    "kernelspec": {
      "name": "python3",
      "display_name": "Python 3"
    }
  },
  "cells": [
    {
      "cell_type": "markdown",
      "metadata": {
        "id": "view-in-github",
        "colab_type": "text"
      },
      "source": [
        "<a href=\"https://colab.research.google.com/github/HuyenNguyenHelen/info5731/blob/master/In_class_exercise_01.ipynb\" target=\"_parent\"><img src=\"https://colab.research.google.com/assets/colab-badge.svg\" alt=\"Open In Colab\"/></a>"
      ]
    },
    {
      "cell_type": "markdown",
      "metadata": {
        "id": "DymRJbxDBCnf",
        "colab_type": "text"
      },
      "source": [
        "# **The first In-class-exercise**"
      ]
    },
    {
      "cell_type": "markdown",
      "metadata": {
        "id": "03jb4GZsBkBS",
        "colab_type": "text"
      },
      "source": [
        "(1) Write a Python program to calculate the length of a string."
      ]
    },
    {
      "cell_type": "code",
      "metadata": {
        "id": "YaGLbSHHB8Ej",
        "colab_type": "code",
        "outputId": "fd155dcc-8da7-41a9-9b37-820d04410101",
        "colab": {
          "base_uri": "https://localhost:8080/",
          "height": 35
        }
      },
      "source": [
        "# write your answer here\n",
        "def length_str (string):\n",
        "  return len(string)\n",
        "length_str(\"hello\")\n",
        "\n"
      ],
      "execution_count": 0,
      "outputs": [
        {
          "output_type": "execute_result",
          "data": {
            "text/plain": [
              "5"
            ]
          },
          "metadata": {
            "tags": []
          },
          "execution_count": 1
        }
      ]
    },
    {
      "cell_type": "markdown",
      "metadata": {
        "id": "jJDe71iLB616",
        "colab_type": "text"
      },
      "source": [
        "(2) Write a Python program to count the number of characters in a string.\n",
        "\n",
        "Sample String : 'google.com‘, \n",
        "\n",
        "Expected Result : {'o': 3, 'g': 2, '.': 1, 'e': 1, 'l': 1, 'm': 1, 'c': 1}"
      ]
    },
    {
      "cell_type": "code",
      "metadata": {
        "id": "MtKskTzbCLaU",
        "colab_type": "code",
        "outputId": "e55238be-58d9-41fc-8b39-46dcaa394b50",
        "colab": {
          "base_uri": "https://localhost:8080/",
          "height": 35
        }
      },
      "source": [
        "# write your answer here\n",
        "def count_str (string):\n",
        "  hist=dict()\n",
        "  for letter in string:\n",
        "    hist[letter]=hist.get(letter,0)+1\n",
        "  return hist\n",
        "count_str(\"google.com\")\n"
      ],
      "execution_count": 0,
      "outputs": [
        {
          "output_type": "execute_result",
          "data": {
            "text/plain": [
              "{'.': 1, 'c': 1, 'e': 1, 'g': 2, 'l': 1, 'm': 1, 'o': 3}"
            ]
          },
          "metadata": {
            "tags": []
          },
          "execution_count": 3
        }
      ]
    },
    {
      "cell_type": "markdown",
      "metadata": {
        "id": "55W9AMdXCSpV",
        "colab_type": "text"
      },
      "source": [
        "(3) Write a Python program to sum all the items in a list"
      ]
    },
    {
      "cell_type": "code",
      "metadata": {
        "id": "I57NXsauCec2",
        "colab_type": "code",
        "outputId": "93921414-b502-42b6-a245-a5a4d869e615",
        "colab": {
          "base_uri": "https://localhost:8080/",
          "height": 35
        }
      },
      "source": [
        "# write your answer here\n",
        "def sum_list (t):\n",
        "  return sum(t)\n",
        "t=[2,4,7,1]\n",
        "sum_list(t)\n",
        "\n"
      ],
      "execution_count": 0,
      "outputs": [
        {
          "output_type": "execute_result",
          "data": {
            "text/plain": [
              "14"
            ]
          },
          "metadata": {
            "tags": []
          },
          "execution_count": 6
        }
      ]
    },
    {
      "cell_type": "markdown",
      "metadata": {
        "id": "4ulBZ6yhCi9F",
        "colab_type": "text"
      },
      "source": [
        "(4) Write a Python program to get a string from a given string where all occurrences of its first char have been changed to '\\$', except the first char itself. \n",
        "\n",
        "Sample String : 'restart‘, \n",
        "\n",
        "Expected Result : 'resta\\$t'"
      ]
    },
    {
      "cell_type": "code",
      "metadata": {
        "id": "Fj0XhwbBCw2o",
        "colab_type": "code",
        "outputId": "1ddb3aca-7ef1-4a04-f75e-04d511394aa2",
        "colab": {
          "base_uri": "https://localhost:8080/",
          "height": 322
        }
      },
      "source": [
        "# write your answer here\n",
        "def change_str (string):\n",
        "  for letter in string:\n",
        "    if \n",
        "      print (\"True\")\n",
        "change_str (\"google\")"
      ],
      "execution_count": 0,
      "outputs": [
        {
          "output_type": "error",
          "ename": "TypeError",
          "evalue": "ignored",
          "traceback": [
            "\u001b[0;31m---------------------------------------------------------------------------\u001b[0m",
            "\u001b[0;31mTypeError\u001b[0m                                 Traceback (most recent call last)",
            "\u001b[0;32m<ipython-input-8-240da4807be6>\u001b[0m in \u001b[0;36m<module>\u001b[0;34m()\u001b[0m\n\u001b[1;32m      3\u001b[0m     \u001b[0;32mif\u001b[0m \u001b[0mstring\u001b[0m\u001b[0;34m[\u001b[0m\u001b[0mletter\u001b[0m\u001b[0;34m]\u001b[0m\u001b[0;34m==\u001b[0m\u001b[0mstring\u001b[0m\u001b[0;34m[\u001b[0m\u001b[0mletter\u001b[0m\u001b[0;34m]\u001b[0m\u001b[0;34m+\u001b[0m\u001b[0;36m1\u001b[0m\u001b[0;34m:\u001b[0m\u001b[0;34m\u001b[0m\u001b[0;34m\u001b[0m\u001b[0m\n\u001b[1;32m      4\u001b[0m       \u001b[0mprint\u001b[0m \u001b[0;34m(\u001b[0m\u001b[0;34m\"True\"\u001b[0m\u001b[0;34m)\u001b[0m\u001b[0;34m\u001b[0m\u001b[0;34m\u001b[0m\u001b[0m\n\u001b[0;32m----> 5\u001b[0;31m \u001b[0mchange_str\u001b[0m \u001b[0;34m(\u001b[0m\u001b[0;34m\"google\"\u001b[0m\u001b[0;34m)\u001b[0m\u001b[0;34m\u001b[0m\u001b[0;34m\u001b[0m\u001b[0m\n\u001b[0m",
            "\u001b[0;32m<ipython-input-8-240da4807be6>\u001b[0m in \u001b[0;36mchange_str\u001b[0;34m(string)\u001b[0m\n\u001b[1;32m      1\u001b[0m \u001b[0;32mdef\u001b[0m \u001b[0mchange_str\u001b[0m \u001b[0;34m(\u001b[0m\u001b[0mstring\u001b[0m\u001b[0;34m)\u001b[0m\u001b[0;34m:\u001b[0m\u001b[0;34m\u001b[0m\u001b[0;34m\u001b[0m\u001b[0m\n\u001b[1;32m      2\u001b[0m   \u001b[0;32mfor\u001b[0m \u001b[0mletter\u001b[0m \u001b[0;32min\u001b[0m \u001b[0mstring\u001b[0m\u001b[0;34m:\u001b[0m\u001b[0;34m\u001b[0m\u001b[0;34m\u001b[0m\u001b[0m\n\u001b[0;32m----> 3\u001b[0;31m     \u001b[0;32mif\u001b[0m \u001b[0mstring\u001b[0m\u001b[0;34m[\u001b[0m\u001b[0mletter\u001b[0m\u001b[0;34m]\u001b[0m\u001b[0;34m==\u001b[0m\u001b[0mstring\u001b[0m\u001b[0;34m[\u001b[0m\u001b[0mletter\u001b[0m\u001b[0;34m]\u001b[0m\u001b[0;34m+\u001b[0m\u001b[0;36m1\u001b[0m\u001b[0;34m:\u001b[0m\u001b[0;34m\u001b[0m\u001b[0;34m\u001b[0m\u001b[0m\n\u001b[0m\u001b[1;32m      4\u001b[0m       \u001b[0mprint\u001b[0m \u001b[0;34m(\u001b[0m\u001b[0;34m\"True\"\u001b[0m\u001b[0;34m)\u001b[0m\u001b[0;34m\u001b[0m\u001b[0;34m\u001b[0m\u001b[0m\n\u001b[1;32m      5\u001b[0m \u001b[0mchange_str\u001b[0m \u001b[0;34m(\u001b[0m\u001b[0;34m\"google\"\u001b[0m\u001b[0;34m)\u001b[0m\u001b[0;34m\u001b[0m\u001b[0;34m\u001b[0m\u001b[0m\n",
            "\u001b[0;31mTypeError\u001b[0m: string indices must be integers"
          ]
        }
      ]
    },
    {
      "cell_type": "markdown",
      "metadata": {
        "id": "_bIP7s1MCzue",
        "colab_type": "text"
      },
      "source": [
        "(5) Write a program with python which could accept two parameter a and b to calculate and output the result of S, where \n",
        "\n",
        "$\\ S=3.14*(1+a/b)^3$\n",
        "\n"
      ]
    },
    {
      "cell_type": "code",
      "metadata": {
        "id": "w79QilHXD3Mg",
        "colab_type": "code",
        "outputId": "e45015dd-1743-42ca-e200-07fead1e1194",
        "colab": {
          "base_uri": "https://localhost:8080/",
          "height": 35
        }
      },
      "source": [
        "# write your answer here\n",
        "def cal_s (a,b):\n",
        "  s= 3.14 * (1+a/b)**3\n",
        "  print(s)\n",
        "cal_s(2,3)\n"
      ],
      "execution_count": 0,
      "outputs": [
        {
          "output_type": "stream",
          "text": [
            "14.537037037037033\n"
          ],
          "name": "stdout"
        }
      ]
    },
    {
      "cell_type": "markdown",
      "metadata": {
        "id": "xCa2bK9aD4Q3",
        "colab_type": "text"
      },
      "source": [
        "(6) Write a Python program to concatenate following dictionaries to create a new one. \n",
        "\n",
        "Sample Dictionary : dic1={1:10, 2:20}, dic2={3:30, 4:40}, dic3={5:50,6:60}, \n",
        "\n",
        "Expected Result : {1: 10, 2: 20, 3: 30, 4: 40, 5: 50, 6: 60}\n"
      ]
    },
    {
      "cell_type": "code",
      "metadata": {
        "id": "_z4aLqAbEET1",
        "colab_type": "code",
        "outputId": "399fb48d-c633-4da0-c400-c7a4cf34931e",
        "colab": {
          "base_uri": "https://localhost:8080/",
          "height": 322
        }
      },
      "source": [
        "# write your answer here\n",
        "def concatenate_dict (dic1, dic2, dic3):\n",
        "  my_dic=dic1+dic2\n",
        "  dic2=dic1+dic3\n",
        "  return my_dic\n",
        "dic1={1:10, 2:20}\n",
        "dic2={3:30, 4:40}\n",
        "dic3={5:50,6:60}\n",
        "concatenate_dict (dic1, dic2, dic3)"
      ],
      "execution_count": 0,
      "outputs": [
        {
          "output_type": "error",
          "ename": "TypeError",
          "evalue": "ignored",
          "traceback": [
            "\u001b[0;31m---------------------------------------------------------------------------\u001b[0m",
            "\u001b[0;31mTypeError\u001b[0m                                 Traceback (most recent call last)",
            "\u001b[0;32m<ipython-input-11-909ea57367b8>\u001b[0m in \u001b[0;36m<module>\u001b[0;34m()\u001b[0m\n\u001b[1;32m      6\u001b[0m \u001b[0mdic2\u001b[0m\u001b[0;34m=\u001b[0m\u001b[0;34m{\u001b[0m\u001b[0;36m3\u001b[0m\u001b[0;34m:\u001b[0m\u001b[0;36m30\u001b[0m\u001b[0;34m,\u001b[0m \u001b[0;36m4\u001b[0m\u001b[0;34m:\u001b[0m\u001b[0;36m40\u001b[0m\u001b[0;34m}\u001b[0m\u001b[0;34m\u001b[0m\u001b[0;34m\u001b[0m\u001b[0m\n\u001b[1;32m      7\u001b[0m \u001b[0mdic3\u001b[0m\u001b[0;34m=\u001b[0m\u001b[0;34m{\u001b[0m\u001b[0;36m5\u001b[0m\u001b[0;34m:\u001b[0m\u001b[0;36m50\u001b[0m\u001b[0;34m,\u001b[0m\u001b[0;36m6\u001b[0m\u001b[0;34m:\u001b[0m\u001b[0;36m60\u001b[0m\u001b[0;34m}\u001b[0m\u001b[0;34m\u001b[0m\u001b[0;34m\u001b[0m\u001b[0m\n\u001b[0;32m----> 8\u001b[0;31m \u001b[0mconcatenate_dict\u001b[0m \u001b[0;34m(\u001b[0m\u001b[0mdic1\u001b[0m\u001b[0;34m,\u001b[0m \u001b[0mdic2\u001b[0m\u001b[0;34m,\u001b[0m \u001b[0mdic3\u001b[0m\u001b[0;34m)\u001b[0m\u001b[0;34m\u001b[0m\u001b[0;34m\u001b[0m\u001b[0m\n\u001b[0m",
            "\u001b[0;32m<ipython-input-11-909ea57367b8>\u001b[0m in \u001b[0;36mconcatenate_dict\u001b[0;34m(dic1, dic2, dic3)\u001b[0m\n\u001b[1;32m      1\u001b[0m \u001b[0;32mdef\u001b[0m \u001b[0mconcatenate_dict\u001b[0m \u001b[0;34m(\u001b[0m\u001b[0mdic1\u001b[0m\u001b[0;34m,\u001b[0m \u001b[0mdic2\u001b[0m\u001b[0;34m,\u001b[0m \u001b[0mdic3\u001b[0m\u001b[0;34m)\u001b[0m\u001b[0;34m:\u001b[0m\u001b[0;34m\u001b[0m\u001b[0;34m\u001b[0m\u001b[0m\n\u001b[0;32m----> 2\u001b[0;31m   \u001b[0mmy_dic\u001b[0m\u001b[0;34m=\u001b[0m\u001b[0mdic1\u001b[0m\u001b[0;34m+\u001b[0m\u001b[0mdic2\u001b[0m\u001b[0;34m\u001b[0m\u001b[0;34m\u001b[0m\u001b[0m\n\u001b[0m\u001b[1;32m      3\u001b[0m   \u001b[0mdic2\u001b[0m\u001b[0;34m=\u001b[0m\u001b[0mdic1\u001b[0m\u001b[0;34m+\u001b[0m\u001b[0mdic3\u001b[0m\u001b[0;34m\u001b[0m\u001b[0;34m\u001b[0m\u001b[0m\n\u001b[1;32m      4\u001b[0m   \u001b[0;32mreturn\u001b[0m \u001b[0mmy_dic\u001b[0m\u001b[0;34m\u001b[0m\u001b[0;34m\u001b[0m\u001b[0m\n\u001b[1;32m      5\u001b[0m \u001b[0mdic1\u001b[0m\u001b[0;34m=\u001b[0m\u001b[0;34m{\u001b[0m\u001b[0;36m1\u001b[0m\u001b[0;34m:\u001b[0m\u001b[0;36m10\u001b[0m\u001b[0;34m,\u001b[0m \u001b[0;36m2\u001b[0m\u001b[0;34m:\u001b[0m\u001b[0;36m20\u001b[0m\u001b[0;34m}\u001b[0m\u001b[0;34m\u001b[0m\u001b[0;34m\u001b[0m\u001b[0m\n",
            "\u001b[0;31mTypeError\u001b[0m: unsupported operand type(s) for +: 'dict' and 'dict'"
          ]
        }
      ]
    },
    {
      "cell_type": "markdown",
      "metadata": {
        "id": "0v48Vqa7FrQh",
        "colab_type": "text"
      },
      "source": [
        "(7) Write a Python program to check whether an element exists within a tuple."
      ]
    },
    {
      "cell_type": "code",
      "metadata": {
        "id": "7WEmgq-DF2P1",
        "colab_type": "code",
        "colab": {}
      },
      "source": [
        "# write your answer here\n"
      ],
      "execution_count": 0,
      "outputs": []
    },
    {
      "cell_type": "markdown",
      "metadata": {
        "id": "vD5PYLMuGga_",
        "colab_type": "text"
      },
      "source": [
        "(8) Write a Python program to find maximum and the minimum value in a set. "
      ]
    },
    {
      "cell_type": "code",
      "metadata": {
        "id": "t0D5kdJUGjjw",
        "colab_type": "code",
        "colab": {}
      },
      "source": [
        "# write your answer here\n"
      ],
      "execution_count": 0,
      "outputs": []
    },
    {
      "cell_type": "markdown",
      "metadata": {
        "id": "uHkd-y5VhVWC",
        "colab_type": "text"
      },
      "source": [
        "(9) Write a Python program to randomly divide the students in this class into four groups for term projects. Here is the students list:\n",
        "\n",
        "studnet_list = ['sa0753','laa0240','lba0043','pb0283','vmb0067','vcd0017','ag1121','lg0426','mj0396','ak0860','vk0222','vk0216',\n",
        "                'tpk0023','nk0327','mk0830','tbl0041','al0787','am1823','sm1515','km0738','hn0139','an0521','ap0975','dp1080',\n",
        "                'pk0292','vp0241','rp0477','hr0178','ps0501','ss1976','ss1872','ss1872','bs0490','pt0218','ry0104']"
      ]
    },
    {
      "cell_type": "code",
      "metadata": {
        "id": "3iGbmcOBhTwy",
        "colab_type": "code",
        "colab": {}
      },
      "source": [
        "# write your answer here\n"
      ],
      "execution_count": 0,
      "outputs": []
    }
  ]
}