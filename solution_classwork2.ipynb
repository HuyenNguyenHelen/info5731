{
  "nbformat": 4,
  "nbformat_minor": 0,
  "metadata": {
    "colab": {
      "name": "solution-classwork2.ipynb",
      "version": "0.3.2",
      "provenance": [],
      "collapsed_sections": [],
      "include_colab_link": true
    },
    "kernelspec": {
      "name": "python3",
      "display_name": "Python 3"
    }
  },
  "cells": [
    {
      "cell_type": "markdown",
      "metadata": {
        "id": "view-in-github",
        "colab_type": "text"
      },
      "source": [
        "<a href=\"https://colab.research.google.com/github/dafeng097/info5731/blob/master/solution_classwork2.ipynb\" target=\"_parent\"><img src=\"https://colab.research.google.com/assets/colab-badge.svg\" alt=\"Open In Colab\"/></a>"
      ]
    },
    {
      "metadata": {
        "id": "00TbCTENXkDt",
        "colab_type": "text"
      },
      "cell_type": "markdown",
      "source": [
        "# Class work 2 (Solution)"
      ]
    },
    {
      "metadata": {
        "id": "pLDeyVA_XopP",
        "colab_type": "text"
      },
      "cell_type": "markdown",
      "source": [
        "In this class work, you will try to do **Exploratory Data Analysis** with Pandas."
      ]
    },
    {
      "metadata": {
        "id": "yU7U4BV5_zyk",
        "colab_type": "text"
      },
      "cell_type": "markdown",
      "source": [
        "## Data Preperation"
      ]
    },
    {
      "metadata": {
        "id": "iYVG-cN9YanN",
        "colab_type": "text"
      },
      "cell_type": "markdown",
      "source": [
        "Please run the following lines of codes, to get source data."
      ]
    },
    {
      "metadata": {
        "id": "kXj21moT-xkR",
        "colab_type": "code",
        "outputId": "5ff6ea5c-c931-4b37-d3e7-3fa9f10c2799",
        "colab": {
          "base_uri": "https://localhost:8080/",
          "height": 295
        }
      },
      "cell_type": "code",
      "source": [
        "!wget https://github.com/wshuyi/info-5731-public/raw/master/winemag-data-130k-v2.csv.zip"
      ],
      "execution_count": 0,
      "outputs": [
        {
          "output_type": "stream",
          "text": [
            "--2019-02-19 22:16:16--  https://github.com/wshuyi/info-5731-public/raw/master/winemag-data-130k-v2.csv.zip\n",
            "Resolving github.com (github.com)... 192.30.253.112, 192.30.253.113\n",
            "Connecting to github.com (github.com)|192.30.253.112|:443... connected.\n",
            "HTTP request sent, awaiting response... 302 Found\n",
            "Location: https://raw.githubusercontent.com/wshuyi/info-5731-public/master/winemag-data-130k-v2.csv.zip [following]\n",
            "--2019-02-19 22:16:16--  https://raw.githubusercontent.com/wshuyi/info-5731-public/master/winemag-data-130k-v2.csv.zip\n",
            "Resolving raw.githubusercontent.com (raw.githubusercontent.com)... 151.101.0.133, 151.101.64.133, 151.101.128.133, ...\n",
            "Connecting to raw.githubusercontent.com (raw.githubusercontent.com)|151.101.0.133|:443... connected.\n",
            "HTTP request sent, awaiting response... 200 OK\n",
            "Length: 17180932 (16M) [application/zip]\n",
            "Saving to: ‘winemag-data-130k-v2.csv.zip.1’\n",
            "\n",
            "winemag-data-130k-v 100%[===================>]  16.38M  91.8MB/s    in 0.2s    \n",
            "\n",
            "2019-02-19 22:16:16 (91.8 MB/s) - ‘winemag-data-130k-v2.csv.zip.1’ saved [17180932/17180932]\n",
            "\n"
          ],
          "name": "stdout"
        }
      ]
    },
    {
      "metadata": {
        "id": "6-kHQW5Q-0hL",
        "colab_type": "code",
        "outputId": "7ae38a98-b6af-48fa-c9e6-dd0ca6dbdcd3",
        "colab": {
          "base_uri": "https://localhost:8080/",
          "height": 80
        }
      },
      "cell_type": "code",
      "source": [
        "!unzip winemag-data-130k-v2.csv.zip"
      ],
      "execution_count": 0,
      "outputs": [
        {
          "output_type": "stream",
          "text": [
            "Archive:  winemag-data-130k-v2.csv.zip\n",
            "replace winemag-data-130k-v2.csv? [y]es, [n]o, [A]ll, [N]one, [r]ename: "
          ],
          "name": "stdout"
        }
      ]
    },
    {
      "metadata": {
        "id": "bCMqjn3nXsuk",
        "colab_type": "text"
      },
      "cell_type": "markdown",
      "source": [
        "## Questions\n",
        "\n",
        "5 points for each question, and full score is 100. "
      ]
    },
    {
      "metadata": {
        "id": "75w4RZfS_UQC",
        "colab_type": "text"
      },
      "cell_type": "markdown",
      "source": [
        "**Question 1.** The data file is stored in csv format and named \"winemag-data-130k-v2.csv \". Please read it into a Pandas dataframe, and name the dataframe as \"reviews\". Make sure the first column should be \"country\", instead of a **\"unnamed\"** one. Display the first 5 rows."
      ]
    },
    {
      "metadata": {
        "id": "qW1V3R1K_nMT",
        "colab_type": "code",
        "colab": {}
      },
      "cell_type": "code",
      "source": [
        "# TODO: your code here"
      ],
      "execution_count": 0,
      "outputs": []
    },
    {
      "metadata": {
        "id": "iG_7Ghot_qo4",
        "colab_type": "code",
        "colab": {}
      },
      "cell_type": "code",
      "source": [
        "import pandas as pd"
      ],
      "execution_count": 0,
      "outputs": []
    },
    {
      "metadata": {
        "id": "UnHw0gra_Pmo",
        "colab_type": "code",
        "outputId": "e9769f36-846c-4bb2-fa69-cd3ccc4fc16c",
        "colab": {
          "base_uri": "https://localhost:8080/",
          "height": 643
        }
      },
      "cell_type": "code",
      "source": [
        "reviews = pd.read_csv(\"winemag-data-130k-v2.csv\", index_col=0); reviews.head()"
      ],
      "execution_count": 0,
      "outputs": [
        {
          "output_type": "execute_result",
          "data": {
            "text/html": [
              "<div>\n",
              "<style scoped>\n",
              "    .dataframe tbody tr th:only-of-type {\n",
              "        vertical-align: middle;\n",
              "    }\n",
              "\n",
              "    .dataframe tbody tr th {\n",
              "        vertical-align: top;\n",
              "    }\n",
              "\n",
              "    .dataframe thead th {\n",
              "        text-align: right;\n",
              "    }\n",
              "</style>\n",
              "<table border=\"1\" class=\"dataframe\">\n",
              "  <thead>\n",
              "    <tr style=\"text-align: right;\">\n",
              "      <th></th>\n",
              "      <th>country</th>\n",
              "      <th>description</th>\n",
              "      <th>designation</th>\n",
              "      <th>points</th>\n",
              "      <th>price</th>\n",
              "      <th>province</th>\n",
              "      <th>region_1</th>\n",
              "      <th>region_2</th>\n",
              "      <th>taster_name</th>\n",
              "      <th>taster_twitter_handle</th>\n",
              "      <th>title</th>\n",
              "      <th>variety</th>\n",
              "      <th>winery</th>\n",
              "    </tr>\n",
              "  </thead>\n",
              "  <tbody>\n",
              "    <tr>\n",
              "      <th>0</th>\n",
              "      <td>Italy</td>\n",
              "      <td>Aromas include tropical fruit, broom, brimston...</td>\n",
              "      <td>Vulkà Bianco</td>\n",
              "      <td>87</td>\n",
              "      <td>NaN</td>\n",
              "      <td>Sicily &amp; Sardinia</td>\n",
              "      <td>Etna</td>\n",
              "      <td>NaN</td>\n",
              "      <td>Kerin O’Keefe</td>\n",
              "      <td>@kerinokeefe</td>\n",
              "      <td>Nicosia 2013 Vulkà Bianco  (Etna)</td>\n",
              "      <td>White Blend</td>\n",
              "      <td>Nicosia</td>\n",
              "    </tr>\n",
              "    <tr>\n",
              "      <th>1</th>\n",
              "      <td>Portugal</td>\n",
              "      <td>This is ripe and fruity, a wine that is smooth...</td>\n",
              "      <td>Avidagos</td>\n",
              "      <td>87</td>\n",
              "      <td>15.0</td>\n",
              "      <td>Douro</td>\n",
              "      <td>NaN</td>\n",
              "      <td>NaN</td>\n",
              "      <td>Roger Voss</td>\n",
              "      <td>@vossroger</td>\n",
              "      <td>Quinta dos Avidagos 2011 Avidagos Red (Douro)</td>\n",
              "      <td>Portuguese Red</td>\n",
              "      <td>Quinta dos Avidagos</td>\n",
              "    </tr>\n",
              "    <tr>\n",
              "      <th>2</th>\n",
              "      <td>US</td>\n",
              "      <td>Tart and snappy, the flavors of lime flesh and...</td>\n",
              "      <td>NaN</td>\n",
              "      <td>87</td>\n",
              "      <td>14.0</td>\n",
              "      <td>Oregon</td>\n",
              "      <td>Willamette Valley</td>\n",
              "      <td>Willamette Valley</td>\n",
              "      <td>Paul Gregutt</td>\n",
              "      <td>@paulgwine</td>\n",
              "      <td>Rainstorm 2013 Pinot Gris (Willamette Valley)</td>\n",
              "      <td>Pinot Gris</td>\n",
              "      <td>Rainstorm</td>\n",
              "    </tr>\n",
              "    <tr>\n",
              "      <th>3</th>\n",
              "      <td>US</td>\n",
              "      <td>Pineapple rind, lemon pith and orange blossom ...</td>\n",
              "      <td>Reserve Late Harvest</td>\n",
              "      <td>87</td>\n",
              "      <td>13.0</td>\n",
              "      <td>Michigan</td>\n",
              "      <td>Lake Michigan Shore</td>\n",
              "      <td>NaN</td>\n",
              "      <td>Alexander Peartree</td>\n",
              "      <td>NaN</td>\n",
              "      <td>St. Julian 2013 Reserve Late Harvest Riesling ...</td>\n",
              "      <td>Riesling</td>\n",
              "      <td>St. Julian</td>\n",
              "    </tr>\n",
              "    <tr>\n",
              "      <th>4</th>\n",
              "      <td>US</td>\n",
              "      <td>Much like the regular bottling from 2012, this...</td>\n",
              "      <td>Vintner's Reserve Wild Child Block</td>\n",
              "      <td>87</td>\n",
              "      <td>65.0</td>\n",
              "      <td>Oregon</td>\n",
              "      <td>Willamette Valley</td>\n",
              "      <td>Willamette Valley</td>\n",
              "      <td>Paul Gregutt</td>\n",
              "      <td>@paulgwine</td>\n",
              "      <td>Sweet Cheeks 2012 Vintner's Reserve Wild Child...</td>\n",
              "      <td>Pinot Noir</td>\n",
              "      <td>Sweet Cheeks</td>\n",
              "    </tr>\n",
              "  </tbody>\n",
              "</table>\n",
              "</div>"
            ],
            "text/plain": [
              "    country                                        description  \\\n",
              "0     Italy  Aromas include tropical fruit, broom, brimston...   \n",
              "1  Portugal  This is ripe and fruity, a wine that is smooth...   \n",
              "2        US  Tart and snappy, the flavors of lime flesh and...   \n",
              "3        US  Pineapple rind, lemon pith and orange blossom ...   \n",
              "4        US  Much like the regular bottling from 2012, this...   \n",
              "\n",
              "                          designation  points  price           province  \\\n",
              "0                        Vulkà Bianco      87    NaN  Sicily & Sardinia   \n",
              "1                            Avidagos      87   15.0              Douro   \n",
              "2                                 NaN      87   14.0             Oregon   \n",
              "3                Reserve Late Harvest      87   13.0           Michigan   \n",
              "4  Vintner's Reserve Wild Child Block      87   65.0             Oregon   \n",
              "\n",
              "              region_1           region_2         taster_name  \\\n",
              "0                 Etna                NaN       Kerin O’Keefe   \n",
              "1                  NaN                NaN          Roger Voss   \n",
              "2    Willamette Valley  Willamette Valley        Paul Gregutt   \n",
              "3  Lake Michigan Shore                NaN  Alexander Peartree   \n",
              "4    Willamette Valley  Willamette Valley        Paul Gregutt   \n",
              "\n",
              "  taster_twitter_handle                                              title  \\\n",
              "0          @kerinokeefe                  Nicosia 2013 Vulkà Bianco  (Etna)   \n",
              "1            @vossroger      Quinta dos Avidagos 2011 Avidagos Red (Douro)   \n",
              "2           @paulgwine       Rainstorm 2013 Pinot Gris (Willamette Valley)   \n",
              "3                   NaN  St. Julian 2013 Reserve Late Harvest Riesling ...   \n",
              "4           @paulgwine   Sweet Cheeks 2012 Vintner's Reserve Wild Child...   \n",
              "\n",
              "          variety               winery  \n",
              "0     White Blend              Nicosia  \n",
              "1  Portuguese Red  Quinta dos Avidagos  \n",
              "2      Pinot Gris            Rainstorm  \n",
              "3        Riesling           St. Julian  \n",
              "4      Pinot Noir         Sweet Cheeks  "
            ]
          },
          "metadata": {
            "tags": []
          },
          "execution_count": 5
        }
      ]
    },
    {
      "metadata": {
        "id": "IcCTDpO1AwkP",
        "colab_type": "text"
      },
      "cell_type": "markdown",
      "source": [
        "**Question 2.** What is the data type of the `points` column in the dataset?"
      ]
    },
    {
      "metadata": {
        "colab_type": "code",
        "id": "UBAPam8FXTyX",
        "colab": {}
      },
      "cell_type": "code",
      "source": [
        "# TODO: your code here"
      ],
      "execution_count": 0,
      "outputs": []
    },
    {
      "metadata": {
        "id": "vmdMBC4eAySP",
        "colab_type": "code",
        "outputId": "3f067dd7-5a96-4543-db47-aa957e84163d",
        "colab": {
          "base_uri": "https://localhost:8080/",
          "height": 34
        }
      },
      "cell_type": "code",
      "source": [
        "dtype = reviews.points.dtype; dtype"
      ],
      "execution_count": 0,
      "outputs": [
        {
          "output_type": "execute_result",
          "data": {
            "text/plain": [
              "dtype('int64')"
            ]
          },
          "metadata": {
            "tags": []
          },
          "execution_count": 13
        }
      ]
    },
    {
      "metadata": {
        "id": "kzK8xgGaOhS6",
        "colab_type": "text"
      },
      "cell_type": "markdown",
      "source": [
        "**Question 3.** Select the `description` column from `reviews` and assign the result to the variable `desc`. Show the first 5 rows of `desc`."
      ]
    },
    {
      "metadata": {
        "colab_type": "code",
        "id": "TqrZGd7wXUSa",
        "colab": {}
      },
      "cell_type": "code",
      "source": [
        "# TODO: your code here"
      ],
      "execution_count": 0,
      "outputs": []
    },
    {
      "metadata": {
        "id": "deLiyWgxOim0",
        "colab_type": "code",
        "outputId": "ac28a4e1-b39a-4567-897d-86cfb4f416d5",
        "colab": {
          "base_uri": "https://localhost:8080/",
          "height": 121
        }
      },
      "cell_type": "code",
      "source": [
        "desc = reviews.description; desc.head()"
      ],
      "execution_count": 0,
      "outputs": [
        {
          "output_type": "execute_result",
          "data": {
            "text/plain": [
              "0    Aromas include tropical fruit, broom, brimston...\n",
              "1    This is ripe and fruity, a wine that is smooth...\n",
              "2    Tart and snappy, the flavors of lime flesh and...\n",
              "3    Pineapple rind, lemon pith and orange blossom ...\n",
              "4    Much like the regular bottling from 2012, this...\n",
              "Name: description, dtype: object"
            ]
          },
          "metadata": {
            "tags": []
          },
          "execution_count": 52
        }
      ]
    },
    {
      "metadata": {
        "id": "3EcvMcQVOuRF",
        "colab_type": "text"
      },
      "cell_type": "markdown",
      "source": [
        "**Question 4.** what type of object is `desc`?"
      ]
    },
    {
      "metadata": {
        "colab_type": "code",
        "id": "Ntt-XJeiXUv9",
        "colab": {}
      },
      "cell_type": "code",
      "source": [
        "# TODO: your code here"
      ],
      "execution_count": 0,
      "outputs": []
    },
    {
      "metadata": {
        "id": "rGcgMM4nO0QM",
        "colab_type": "code",
        "outputId": "b50149ab-b32b-47bd-c7ac-bec6d9fdfec3",
        "colab": {
          "base_uri": "https://localhost:8080/",
          "height": 34
        }
      },
      "cell_type": "code",
      "source": [
        "type(desc)"
      ],
      "execution_count": 0,
      "outputs": [
        {
          "output_type": "execute_result",
          "data": {
            "text/plain": [
              "pandas.core.series.Series"
            ]
          },
          "metadata": {
            "tags": []
          },
          "execution_count": 21
        }
      ]
    },
    {
      "metadata": {
        "id": "CwrlkouyO2hs",
        "colab_type": "text"
      },
      "cell_type": "markdown",
      "source": [
        "**Question 5.** Select the first value from the description column of `reviews`, assigning it to variable `first_description`. Show the content of `first_description`."
      ]
    },
    {
      "metadata": {
        "colab_type": "code",
        "id": "RskJKxrkXVQD",
        "colab": {}
      },
      "cell_type": "code",
      "source": [
        "# TODO: your code here"
      ],
      "execution_count": 0,
      "outputs": []
    },
    {
      "metadata": {
        "id": "AVX8wbkUO-QV",
        "colab_type": "code",
        "outputId": "9ef66b58-5ff1-4b2e-a9da-29fe8931edcc",
        "colab": {
          "base_uri": "https://localhost:8080/",
          "height": 54
        }
      },
      "cell_type": "code",
      "source": [
        "first_description = reviews.description.loc[0]; first_description"
      ],
      "execution_count": 0,
      "outputs": [
        {
          "output_type": "execute_result",
          "data": {
            "text/plain": [
              "\"Aromas include tropical fruit, broom, brimstone and dried herb. The palate isn't overly expressive, offering unripened apple, citrus and dried sage alongside brisk acidity.\""
            ]
          },
          "metadata": {
            "tags": []
          },
          "execution_count": 22
        }
      ]
    },
    {
      "metadata": {
        "id": "7vqxm9CaPLPZ",
        "colab_type": "text"
      },
      "cell_type": "markdown",
      "source": [
        "**Question 6.** Select the first row of data (the first record) from `reviews`, assigning it to the variable `first_row`. Show the content of `first_row`."
      ]
    },
    {
      "metadata": {
        "colab_type": "code",
        "id": "QNZfRkHHXVpm",
        "colab": {}
      },
      "cell_type": "code",
      "source": [
        "# TODO: your code here"
      ],
      "execution_count": 0,
      "outputs": []
    },
    {
      "metadata": {
        "id": "UsfYk_m3PN-0",
        "colab_type": "code",
        "outputId": "80c0db9d-c408-4be5-bffe-63793f00d88a",
        "colab": {
          "base_uri": "https://localhost:8080/",
          "height": 260
        }
      },
      "cell_type": "code",
      "source": [
        "first_row = reviews.iloc[0]; first_row"
      ],
      "execution_count": 0,
      "outputs": [
        {
          "output_type": "execute_result",
          "data": {
            "text/plain": [
              "country                                                              Italy\n",
              "description              Aromas include tropical fruit, broom, brimston...\n",
              "designation                                                   Vulkà Bianco\n",
              "points                                                                  87\n",
              "price                                                                  NaN\n",
              "province                                                 Sicily & Sardinia\n",
              "region_1                                                              Etna\n",
              "region_2                                                               NaN\n",
              "taster_name                                                  Kerin O’Keefe\n",
              "taster_twitter_handle                                         @kerinokeefe\n",
              "title                                    Nicosia 2013 Vulkà Bianco  (Etna)\n",
              "variety                                                        White Blend\n",
              "winery                                                             Nicosia\n",
              "Name: 0, dtype: object"
            ]
          },
          "metadata": {
            "tags": []
          },
          "execution_count": 23
        }
      ]
    },
    {
      "metadata": {
        "id": "bXaPGZyKPYPT",
        "colab_type": "text"
      },
      "cell_type": "markdown",
      "source": [
        "**Question 7.** Select the first 10 values from the `description` column in `reviews`, assigning the result to variable `first_descriptions`. Show the content of `first_descriptions`. (Hint: format your output as a `pandas` `Series`.)"
      ]
    },
    {
      "metadata": {
        "colab_type": "code",
        "id": "gXjvqaoXXWGK",
        "colab": {}
      },
      "cell_type": "code",
      "source": [
        "# TODO: your code here"
      ],
      "execution_count": 0,
      "outputs": []
    },
    {
      "metadata": {
        "id": "KBPJZl8hPeId",
        "colab_type": "code",
        "outputId": "c78e9dcb-352f-4aca-870e-13ec83480fdc",
        "colab": {
          "base_uri": "https://localhost:8080/",
          "height": 208
        }
      },
      "cell_type": "code",
      "source": [
        "first_descriptions = reviews.description.iloc[:10]; first_descriptions"
      ],
      "execution_count": 0,
      "outputs": [
        {
          "output_type": "execute_result",
          "data": {
            "text/plain": [
              "0    Aromas include tropical fruit, broom, brimston...\n",
              "1    This is ripe and fruity, a wine that is smooth...\n",
              "2    Tart and snappy, the flavors of lime flesh and...\n",
              "3    Pineapple rind, lemon pith and orange blossom ...\n",
              "4    Much like the regular bottling from 2012, this...\n",
              "5    Blackberry and raspberry aromas show a typical...\n",
              "6    Here's a bright, informal red that opens with ...\n",
              "7    This dry and restrained wine offers spice in p...\n",
              "8    Savory dried thyme notes accent sunnier flavor...\n",
              "9    This has great depth of flavor with its fresh ...\n",
              "Name: description, dtype: object"
            ]
          },
          "metadata": {
            "tags": []
          },
          "execution_count": 24
        }
      ]
    },
    {
      "metadata": {
        "id": "nU_kWzEWPlhU",
        "colab_type": "text"
      },
      "cell_type": "markdown",
      "source": [
        "**Question 8.** Select the records with index labels `1`, `2`, `4`, `5`, and `7`, assigning the result to the variable `sample_reviews`. Show first 5 rows of `sample_reviews`."
      ]
    },
    {
      "metadata": {
        "colab_type": "code",
        "id": "_B5NkoPeXWtW",
        "colab": {}
      },
      "cell_type": "code",
      "source": [
        "# TODO: your code here"
      ],
      "execution_count": 0,
      "outputs": []
    },
    {
      "metadata": {
        "id": "PsiLPx9KPs16",
        "colab_type": "code",
        "outputId": "f0940ccc-bc28-4b2d-ef1f-903f8a7da21a",
        "colab": {
          "base_uri": "https://localhost:8080/",
          "height": 486
        }
      },
      "cell_type": "code",
      "source": [
        "sample_reviews = reviews.iloc[[1, 2, 4, 5, 7], :]; sample_reviews.head()"
      ],
      "execution_count": 0,
      "outputs": [
        {
          "output_type": "execute_result",
          "data": {
            "text/html": [
              "<div>\n",
              "<style scoped>\n",
              "    .dataframe tbody tr th:only-of-type {\n",
              "        vertical-align: middle;\n",
              "    }\n",
              "\n",
              "    .dataframe tbody tr th {\n",
              "        vertical-align: top;\n",
              "    }\n",
              "\n",
              "    .dataframe thead th {\n",
              "        text-align: right;\n",
              "    }\n",
              "</style>\n",
              "<table border=\"1\" class=\"dataframe\">\n",
              "  <thead>\n",
              "    <tr style=\"text-align: right;\">\n",
              "      <th></th>\n",
              "      <th>country</th>\n",
              "      <th>description</th>\n",
              "      <th>designation</th>\n",
              "      <th>points</th>\n",
              "      <th>price</th>\n",
              "      <th>province</th>\n",
              "      <th>region_1</th>\n",
              "      <th>region_2</th>\n",
              "      <th>taster_name</th>\n",
              "      <th>taster_twitter_handle</th>\n",
              "      <th>title</th>\n",
              "      <th>variety</th>\n",
              "      <th>winery</th>\n",
              "    </tr>\n",
              "  </thead>\n",
              "  <tbody>\n",
              "    <tr>\n",
              "      <th>1</th>\n",
              "      <td>Portugal</td>\n",
              "      <td>This is ripe and fruity, a wine that is smooth...</td>\n",
              "      <td>Avidagos</td>\n",
              "      <td>87</td>\n",
              "      <td>15.0</td>\n",
              "      <td>Douro</td>\n",
              "      <td>NaN</td>\n",
              "      <td>NaN</td>\n",
              "      <td>Roger Voss</td>\n",
              "      <td>@vossroger</td>\n",
              "      <td>Quinta dos Avidagos 2011 Avidagos Red (Douro)</td>\n",
              "      <td>Portuguese Red</td>\n",
              "      <td>Quinta dos Avidagos</td>\n",
              "    </tr>\n",
              "    <tr>\n",
              "      <th>2</th>\n",
              "      <td>US</td>\n",
              "      <td>Tart and snappy, the flavors of lime flesh and...</td>\n",
              "      <td>NaN</td>\n",
              "      <td>87</td>\n",
              "      <td>14.0</td>\n",
              "      <td>Oregon</td>\n",
              "      <td>Willamette Valley</td>\n",
              "      <td>Willamette Valley</td>\n",
              "      <td>Paul Gregutt</td>\n",
              "      <td>@paulgwine</td>\n",
              "      <td>Rainstorm 2013 Pinot Gris (Willamette Valley)</td>\n",
              "      <td>Pinot Gris</td>\n",
              "      <td>Rainstorm</td>\n",
              "    </tr>\n",
              "    <tr>\n",
              "      <th>4</th>\n",
              "      <td>US</td>\n",
              "      <td>Much like the regular bottling from 2012, this...</td>\n",
              "      <td>Vintner's Reserve Wild Child Block</td>\n",
              "      <td>87</td>\n",
              "      <td>65.0</td>\n",
              "      <td>Oregon</td>\n",
              "      <td>Willamette Valley</td>\n",
              "      <td>Willamette Valley</td>\n",
              "      <td>Paul Gregutt</td>\n",
              "      <td>@paulgwine</td>\n",
              "      <td>Sweet Cheeks 2012 Vintner's Reserve Wild Child...</td>\n",
              "      <td>Pinot Noir</td>\n",
              "      <td>Sweet Cheeks</td>\n",
              "    </tr>\n",
              "    <tr>\n",
              "      <th>5</th>\n",
              "      <td>Spain</td>\n",
              "      <td>Blackberry and raspberry aromas show a typical...</td>\n",
              "      <td>Ars In Vitro</td>\n",
              "      <td>87</td>\n",
              "      <td>15.0</td>\n",
              "      <td>Northern Spain</td>\n",
              "      <td>Navarra</td>\n",
              "      <td>NaN</td>\n",
              "      <td>Michael Schachner</td>\n",
              "      <td>@wineschach</td>\n",
              "      <td>Tandem 2011 Ars In Vitro Tempranillo-Merlot (N...</td>\n",
              "      <td>Tempranillo-Merlot</td>\n",
              "      <td>Tandem</td>\n",
              "    </tr>\n",
              "    <tr>\n",
              "      <th>7</th>\n",
              "      <td>France</td>\n",
              "      <td>This dry and restrained wine offers spice in p...</td>\n",
              "      <td>NaN</td>\n",
              "      <td>87</td>\n",
              "      <td>24.0</td>\n",
              "      <td>Alsace</td>\n",
              "      <td>Alsace</td>\n",
              "      <td>NaN</td>\n",
              "      <td>Roger Voss</td>\n",
              "      <td>@vossroger</td>\n",
              "      <td>Trimbach 2012 Gewurztraminer (Alsace)</td>\n",
              "      <td>Gewürztraminer</td>\n",
              "      <td>Trimbach</td>\n",
              "    </tr>\n",
              "  </tbody>\n",
              "</table>\n",
              "</div>"
            ],
            "text/plain": [
              "    country                                        description  \\\n",
              "1  Portugal  This is ripe and fruity, a wine that is smooth...   \n",
              "2        US  Tart and snappy, the flavors of lime flesh and...   \n",
              "4        US  Much like the regular bottling from 2012, this...   \n",
              "5     Spain  Blackberry and raspberry aromas show a typical...   \n",
              "7    France  This dry and restrained wine offers spice in p...   \n",
              "\n",
              "                          designation  points  price        province  \\\n",
              "1                            Avidagos      87   15.0           Douro   \n",
              "2                                 NaN      87   14.0          Oregon   \n",
              "4  Vintner's Reserve Wild Child Block      87   65.0          Oregon   \n",
              "5                        Ars In Vitro      87   15.0  Northern Spain   \n",
              "7                                 NaN      87   24.0          Alsace   \n",
              "\n",
              "            region_1           region_2        taster_name  \\\n",
              "1                NaN                NaN         Roger Voss   \n",
              "2  Willamette Valley  Willamette Valley       Paul Gregutt   \n",
              "4  Willamette Valley  Willamette Valley       Paul Gregutt   \n",
              "5            Navarra                NaN  Michael Schachner   \n",
              "7             Alsace                NaN         Roger Voss   \n",
              "\n",
              "  taster_twitter_handle                                              title  \\\n",
              "1            @vossroger      Quinta dos Avidagos 2011 Avidagos Red (Douro)   \n",
              "2           @paulgwine       Rainstorm 2013 Pinot Gris (Willamette Valley)   \n",
              "4           @paulgwine   Sweet Cheeks 2012 Vintner's Reserve Wild Child...   \n",
              "5           @wineschach  Tandem 2011 Ars In Vitro Tempranillo-Merlot (N...   \n",
              "7            @vossroger              Trimbach 2012 Gewurztraminer (Alsace)   \n",
              "\n",
              "              variety               winery  \n",
              "1      Portuguese Red  Quinta dos Avidagos  \n",
              "2          Pinot Gris            Rainstorm  \n",
              "4          Pinot Noir         Sweet Cheeks  \n",
              "5  Tempranillo-Merlot               Tandem  \n",
              "7      Gewürztraminer             Trimbach  "
            ]
          },
          "metadata": {
            "tags": []
          },
          "execution_count": 27
        }
      ]
    },
    {
      "metadata": {
        "id": "O1S9d3roQF50",
        "colab_type": "text"
      },
      "cell_type": "markdown",
      "source": [
        "**Question 9.** Create a variable df containing the country, province, region_1, and region_2 columns of the records with the index labels 0, 2, 20, and 200. Show the content of df."
      ]
    },
    {
      "metadata": {
        "colab_type": "code",
        "id": "raPuwVGzXXSk",
        "colab": {}
      },
      "cell_type": "code",
      "source": [
        "# TODO: your code here"
      ],
      "execution_count": 0,
      "outputs": []
    },
    {
      "metadata": {
        "id": "4EqE82-rQYag",
        "colab_type": "code",
        "outputId": "be40a1e1-0af7-44d5-813f-6fce041773d6",
        "colab": {
          "base_uri": "https://localhost:8080/",
          "height": 174
        }
      },
      "cell_type": "code",
      "source": [
        "df = reviews.loc[[0, 2, 20, 200], ['country', 'province', 'region_1', 'region_2']]; df"
      ],
      "execution_count": 0,
      "outputs": [
        {
          "output_type": "execute_result",
          "data": {
            "text/html": [
              "<div>\n",
              "<style scoped>\n",
              "    .dataframe tbody tr th:only-of-type {\n",
              "        vertical-align: middle;\n",
              "    }\n",
              "\n",
              "    .dataframe tbody tr th {\n",
              "        vertical-align: top;\n",
              "    }\n",
              "\n",
              "    .dataframe thead th {\n",
              "        text-align: right;\n",
              "    }\n",
              "</style>\n",
              "<table border=\"1\" class=\"dataframe\">\n",
              "  <thead>\n",
              "    <tr style=\"text-align: right;\">\n",
              "      <th></th>\n",
              "      <th>country</th>\n",
              "      <th>province</th>\n",
              "      <th>region_1</th>\n",
              "      <th>region_2</th>\n",
              "    </tr>\n",
              "  </thead>\n",
              "  <tbody>\n",
              "    <tr>\n",
              "      <th>0</th>\n",
              "      <td>Italy</td>\n",
              "      <td>Sicily &amp; Sardinia</td>\n",
              "      <td>Etna</td>\n",
              "      <td>NaN</td>\n",
              "    </tr>\n",
              "    <tr>\n",
              "      <th>2</th>\n",
              "      <td>US</td>\n",
              "      <td>Oregon</td>\n",
              "      <td>Willamette Valley</td>\n",
              "      <td>Willamette Valley</td>\n",
              "    </tr>\n",
              "    <tr>\n",
              "      <th>20</th>\n",
              "      <td>US</td>\n",
              "      <td>Virginia</td>\n",
              "      <td>Virginia</td>\n",
              "      <td>NaN</td>\n",
              "    </tr>\n",
              "    <tr>\n",
              "      <th>200</th>\n",
              "      <td>Italy</td>\n",
              "      <td>Tuscany</td>\n",
              "      <td>Brunello di Montalcino</td>\n",
              "      <td>NaN</td>\n",
              "    </tr>\n",
              "  </tbody>\n",
              "</table>\n",
              "</div>"
            ],
            "text/plain": [
              "    country           province                region_1           region_2\n",
              "0     Italy  Sicily & Sardinia                    Etna                NaN\n",
              "2        US             Oregon       Willamette Valley  Willamette Valley\n",
              "20       US           Virginia                Virginia                NaN\n",
              "200   Italy            Tuscany  Brunello di Montalcino                NaN"
            ]
          },
          "metadata": {
            "tags": []
          },
          "execution_count": 28
        }
      ]
    },
    {
      "metadata": {
        "id": "G_VHzIziQnHY",
        "colab_type": "text"
      },
      "cell_type": "markdown",
      "source": [
        "**Question 10.** Create a variable `df` containing the `country` and `variety` columns of the first 100 records. Show the shape of `df`."
      ]
    },
    {
      "metadata": {
        "colab_type": "code",
        "id": "qwDRwkt0XXwY",
        "colab": {}
      },
      "cell_type": "code",
      "source": [
        "# TODO: your code here"
      ],
      "execution_count": 0,
      "outputs": []
    },
    {
      "metadata": {
        "id": "2svAltNOQpuC",
        "colab_type": "code",
        "outputId": "cbc85681-dea1-4a05-af3d-059f081f3fb8",
        "colab": {
          "base_uri": "https://localhost:8080/",
          "height": 34
        }
      },
      "cell_type": "code",
      "source": [
        "df = reviews.loc[range(100), ['country', 'variety']]; df.shape"
      ],
      "execution_count": 0,
      "outputs": [
        {
          "output_type": "execute_result",
          "data": {
            "text/plain": [
              "(100, 2)"
            ]
          },
          "metadata": {
            "tags": []
          },
          "execution_count": 31
        }
      ]
    },
    {
      "metadata": {
        "id": "kdXXjNbrRHJQ",
        "colab_type": "text"
      },
      "cell_type": "markdown",
      "source": [
        "**Question 11.** Create a DataFrame `france_wines` containing reviews of wines made in `France`. Show the shape of `france_wines`."
      ]
    },
    {
      "metadata": {
        "colab_type": "code",
        "id": "Qj0i2yHlXYRa",
        "colab": {}
      },
      "cell_type": "code",
      "source": [
        "# TODO: your code here"
      ],
      "execution_count": 0,
      "outputs": []
    },
    {
      "metadata": {
        "id": "hiP5j-KeRKq4",
        "colab_type": "code",
        "outputId": "74ea2130-cdd5-4b4c-eb87-04e904342989",
        "colab": {
          "base_uri": "https://localhost:8080/",
          "height": 34
        }
      },
      "cell_type": "code",
      "source": [
        "france_wines = reviews[reviews.country == 'France']; france_wines.shape"
      ],
      "execution_count": 0,
      "outputs": [
        {
          "output_type": "execute_result",
          "data": {
            "text/plain": [
              "(22093, 13)"
            ]
          },
          "metadata": {
            "tags": []
          },
          "execution_count": 35
        }
      ]
    },
    {
      "metadata": {
        "id": "BtH67scWR6Q0",
        "colab_type": "text"
      },
      "cell_type": "markdown",
      "source": [
        "**Question 12.** Create a DataFrame `top_north_america_wines` containing all reviews with at least 95 points (out of 100) for wines from US or Canada. Show the shape of `top_north_america_wines`."
      ]
    },
    {
      "metadata": {
        "colab_type": "code",
        "id": "8lLrtjfZXY5A",
        "colab": {}
      },
      "cell_type": "code",
      "source": [
        "# TODO: your code here"
      ],
      "execution_count": 0,
      "outputs": []
    },
    {
      "metadata": {
        "id": "vQBmoPeTSDA-",
        "colab_type": "code",
        "outputId": "0b990c0b-1e9d-444f-ba8e-246800cc19a2",
        "colab": {
          "base_uri": "https://localhost:8080/",
          "height": 34
        }
      },
      "cell_type": "code",
      "source": [
        "top_north_america_wines = reviews[(reviews.points >= 95) & (reviews.country.isin(['US', 'Canada']))]; top_north_america_wines.shape"
      ],
      "execution_count": 0,
      "outputs": [
        {
          "output_type": "execute_result",
          "data": {
            "text/plain": [
              "(993, 13)"
            ]
          },
          "metadata": {
            "tags": []
          },
          "execution_count": 41
        }
      ]
    },
    {
      "metadata": {
        "id": "LOyxmO1jS1hw",
        "colab_type": "text"
      },
      "cell_type": "markdown",
      "source": [
        "**Question 13.** What is the minimum value of the points column in the reviews DataFrame?"
      ]
    },
    {
      "metadata": {
        "colab_type": "code",
        "id": "0DBqUOWXXZWF",
        "colab": {}
      },
      "cell_type": "code",
      "source": [
        "# TODO: your code here"
      ],
      "execution_count": 0,
      "outputs": []
    },
    {
      "metadata": {
        "id": "Nqy-3sQbS4K1",
        "colab_type": "code",
        "outputId": "e9b0e285-f6b6-4636-a7e7-c7add269efe3",
        "colab": {
          "base_uri": "https://localhost:8080/",
          "height": 34
        }
      },
      "cell_type": "code",
      "source": [
        "reviews.points.min()"
      ],
      "execution_count": 0,
      "outputs": [
        {
          "output_type": "execute_result",
          "data": {
            "text/plain": [
              "80"
            ]
          },
          "metadata": {
            "tags": []
          },
          "execution_count": 42
        }
      ]
    },
    {
      "metadata": {
        "id": "MX_JIp-MS_Wf",
        "colab_type": "text"
      },
      "cell_type": "markdown",
      "source": [
        "**Question 14.** What countries are represented in the dataset? (Your answer should not include any duplicates.)"
      ]
    },
    {
      "metadata": {
        "colab_type": "code",
        "id": "qCkLxWp5XZzn",
        "colab": {}
      },
      "cell_type": "code",
      "source": [
        "# TODO: your code here"
      ],
      "execution_count": 0,
      "outputs": []
    },
    {
      "metadata": {
        "id": "aqO31nlzRzZl",
        "colab_type": "code",
        "outputId": "9814495f-c33d-4244-f151-c68387037c65",
        "colab": {
          "base_uri": "https://localhost:8080/",
          "height": 173
        }
      },
      "cell_type": "code",
      "source": [
        "reviews.country.unique()"
      ],
      "execution_count": 0,
      "outputs": [
        {
          "output_type": "execute_result",
          "data": {
            "text/plain": [
              "array(['Italy', 'Portugal', 'US', 'Spain', 'France', 'Germany',\n",
              "       'Argentina', 'Chile', 'Australia', 'Austria', 'South Africa',\n",
              "       'New Zealand', 'Israel', 'Hungary', 'Greece', 'Romania', 'Mexico',\n",
              "       'Canada', nan, 'Turkey', 'Czech Republic', 'Slovenia',\n",
              "       'Luxembourg', 'Croatia', 'Georgia', 'Uruguay', 'England',\n",
              "       'Lebanon', 'Serbia', 'Brazil', 'Moldova', 'Morocco', 'Peru',\n",
              "       'India', 'Bulgaria', 'Cyprus', 'Armenia', 'Switzerland',\n",
              "       'Bosnia and Herzegovina', 'Ukraine', 'Slovakia', 'Macedonia',\n",
              "       'China', 'Egypt'], dtype=object)"
            ]
          },
          "metadata": {
            "tags": []
          },
          "execution_count": 37
        }
      ]
    },
    {
      "metadata": {
        "id": "N4drEZ3XTJ_w",
        "colab_type": "text"
      },
      "cell_type": "markdown",
      "source": [
        "**Question 15.** How often does each country appear in the dataset? Create a Series `reviews_per_country` mapping countries to the count of reviews of wines from that country. Show the first 10 rows of `reviews_per_country`."
      ]
    },
    {
      "metadata": {
        "colab_type": "code",
        "id": "9EVSTey8XaTe",
        "colab": {}
      },
      "cell_type": "code",
      "source": [
        "# TODO: your code here"
      ],
      "execution_count": 0,
      "outputs": []
    },
    {
      "metadata": {
        "id": "6la8dIJNTJXV",
        "colab_type": "code",
        "outputId": "5697aa0e-2e35-4107-e890-484b06a86b5c",
        "colab": {
          "base_uri": "https://localhost:8080/",
          "height": 208
        }
      },
      "cell_type": "code",
      "source": [
        "reviews_per_country = reviews.country.value_counts(); reviews_per_country.head(10)"
      ],
      "execution_count": 0,
      "outputs": [
        {
          "output_type": "execute_result",
          "data": {
            "text/plain": [
              "US           54504\n",
              "France       22093\n",
              "Italy        19540\n",
              "Spain         6645\n",
              "Portugal      5691\n",
              "Chile         4472\n",
              "Argentina     3800\n",
              "Austria       3345\n",
              "Australia     2329\n",
              "Germany       2165\n",
              "Name: country, dtype: int64"
            ]
          },
          "metadata": {
            "tags": []
          },
          "execution_count": 45
        }
      ]
    },
    {
      "metadata": {
        "id": "OkItiZ9bTXbY",
        "colab_type": "text"
      },
      "cell_type": "markdown",
      "source": [
        "**Question 16.** Create variable `centered_price` containing a version of the `price` column with the mean price subtracted. Show the first 10 rows of `centered_price`."
      ]
    },
    {
      "metadata": {
        "colab_type": "code",
        "id": "wkhpuwJyXa3G",
        "colab": {}
      },
      "cell_type": "code",
      "source": [
        "# TODO: your code here"
      ],
      "execution_count": 0,
      "outputs": []
    },
    {
      "metadata": {
        "id": "LM2HeiPYTc5D",
        "colab_type": "code",
        "outputId": "0fa3c252-de97-4341-820b-22b386c237f0",
        "colab": {
          "base_uri": "https://localhost:8080/",
          "height": 208
        }
      },
      "cell_type": "code",
      "source": [
        "centered_price = reviews.price - reviews.price.mean(); centered_price.head(10)"
      ],
      "execution_count": 0,
      "outputs": [
        {
          "output_type": "execute_result",
          "data": {
            "text/plain": [
              "0          NaN\n",
              "1   -20.363389\n",
              "2   -21.363389\n",
              "3   -22.363389\n",
              "4    29.636611\n",
              "5   -20.363389\n",
              "6   -19.363389\n",
              "7   -11.363389\n",
              "8   -23.363389\n",
              "9    -8.363389\n",
              "Name: price, dtype: float64"
            ]
          },
          "metadata": {
            "tags": []
          },
          "execution_count": 47
        }
      ]
    },
    {
      "metadata": {
        "id": "Hb8pgT_3T2Pl",
        "colab_type": "text"
      },
      "cell_type": "markdown",
      "source": [
        "**Question 17.** Create a variable `bargain_wine` with the title of the wine with the highest points-to-price ratio in the dataset. Show the value of `bargain_wine`."
      ]
    },
    {
      "metadata": {
        "colab_type": "code",
        "id": "WeLLzohEXbwM",
        "colab": {}
      },
      "cell_type": "code",
      "source": [
        "# TODO: your code here"
      ],
      "execution_count": 0,
      "outputs": []
    },
    {
      "metadata": {
        "id": "yw27mtY6T4i3",
        "colab_type": "code",
        "outputId": "20f6388f-5993-4203-dcbc-631fe4ba69fa",
        "colab": {
          "base_uri": "https://localhost:8080/",
          "height": 34
        }
      },
      "cell_type": "code",
      "source": [
        "bargain_wine = reviews.iloc[(reviews.points / reviews.price).idxmax()]['title']; bargain_wine"
      ],
      "execution_count": 0,
      "outputs": [
        {
          "output_type": "execute_result",
          "data": {
            "text/plain": [
              "'Bandit NV Merlot (California)'"
            ]
          },
          "metadata": {
            "tags": []
          },
          "execution_count": 50
        }
      ]
    },
    {
      "metadata": {
        "id": "WmeqXrx2U5_X",
        "colab_type": "text"
      },
      "cell_type": "markdown",
      "source": [
        "**Question 18.** Is a wine more likely to be \"tropical\" or \"fruity\"? Create a Series `descriptor_counts` counting how many times each of these two words appears in the description column in the dataset. Show the content of `descriptor_counts`."
      ]
    },
    {
      "metadata": {
        "colab_type": "code",
        "id": "zDxikAMBXcVF",
        "colab": {}
      },
      "cell_type": "code",
      "source": [
        "# TODO: your code here"
      ],
      "execution_count": 0,
      "outputs": []
    },
    {
      "metadata": {
        "id": "CwqDUiaBVAfr",
        "colab_type": "code",
        "outputId": "9b1b1789-e058-45c2-ff13-b8cd2f382e1b",
        "colab": {
          "base_uri": "https://localhost:8080/",
          "height": 69
        }
      },
      "cell_type": "code",
      "source": [
        "reviews['tropical'] = reviews.description.apply(lambda x: True if 'tropical' in x else False)\n",
        "reviews['fruity'] = reviews.description.apply(lambda x: True if 'fruity' in x else False)\n",
        "descriptor_counts = reviews[['tropical', 'fruity']].sum(); descriptor_counts"
      ],
      "execution_count": 0,
      "outputs": [
        {
          "output_type": "execute_result",
          "data": {
            "text/plain": [
              "tropical    3607\n",
              "fruity      9090\n",
              "dtype: int64"
            ]
          },
          "metadata": {
            "tags": []
          },
          "execution_count": 51
        }
      ]
    },
    {
      "metadata": {
        "id": "sHhgidRBBgih",
        "colab_type": "text"
      },
      "cell_type": "markdown",
      "source": [
        "**Question 19.** Sometimes the price column is null. How many reviews in the dataset are missing a price?"
      ]
    },
    {
      "metadata": {
        "colab_type": "code",
        "id": "7Q_D-rdfXc7D",
        "colab": {}
      },
      "cell_type": "code",
      "source": [
        "# TODO: your code here"
      ],
      "execution_count": 0,
      "outputs": []
    },
    {
      "metadata": {
        "id": "kXLUFr0GBhkF",
        "colab_type": "code",
        "outputId": "921dc6d8-cfb7-44fa-d6bc-cf1190a131f0",
        "colab": {
          "base_uri": "https://localhost:8080/",
          "height": 34
        }
      },
      "cell_type": "code",
      "source": [
        "n_missing_prices = reviews.price.isnull().sum(); n_missing_prices"
      ],
      "execution_count": 0,
      "outputs": [
        {
          "output_type": "execute_result",
          "data": {
            "text/plain": [
              "8996"
            ]
          },
          "metadata": {
            "tags": []
          },
          "execution_count": 14
        }
      ]
    },
    {
      "metadata": {
        "id": "qNNNW2pxCy5g",
        "colab_type": "text"
      },
      "cell_type": "markdown",
      "source": [
        "**Question 20.** What are the most common wine-producing regions? Create a `Series` counting the number of times each value occurs in the `region_1` field. This field is often missing data, so replace missing values with `Unknown`. Sort in descending order. Show the first 10 rows of the series."
      ]
    },
    {
      "metadata": {
        "colab_type": "code",
        "id": "x_yQWKbWXdW8",
        "colab": {}
      },
      "cell_type": "code",
      "source": [
        "# TODO: your code here"
      ],
      "execution_count": 0,
      "outputs": []
    },
    {
      "metadata": {
        "id": "2BfQtJ3zCzG0",
        "colab_type": "code",
        "outputId": "2fdfc790-5f74-48e5-b733-e8093e70cb17",
        "colab": {
          "base_uri": "https://localhost:8080/",
          "height": 208
        }
      },
      "cell_type": "code",
      "source": [
        "reviews_per_region = reviews.region_1.fillna('Unkown').value_counts().sort_values(ascending=False); reviews_per_region.head(10)"
      ],
      "execution_count": 0,
      "outputs": [
        {
          "output_type": "execute_result",
          "data": {
            "text/plain": [
              "Unkown                  21247\n",
              "Napa Valley              4480\n",
              "Columbia Valley (WA)     4124\n",
              "Russian River Valley     3091\n",
              "California               2629\n",
              "Paso Robles              2350\n",
              "Willamette Valley        2301\n",
              "Mendoza                  2301\n",
              "Alsace                   2163\n",
              "Champagne                1613\n",
              "Name: region_1, dtype: int64"
            ]
          },
          "metadata": {
            "tags": []
          },
          "execution_count": 17
        }
      ]
    },
    {
      "metadata": {
        "id": "MVws7H5u-iVp",
        "colab_type": "text"
      },
      "cell_type": "markdown",
      "source": [
        "**Question 21.** Who are the most common wine reviewers in the dataset? Create a `Series` whose index is the `taster_twitter_handle` category from the dataset, and whose values count how many reviews each person wrote. Show the series."
      ]
    },
    {
      "metadata": {
        "colab_type": "code",
        "id": "3LUo7_L7XeAp",
        "colab": {}
      },
      "cell_type": "code",
      "source": [
        "# TODO: your code here"
      ],
      "execution_count": 0,
      "outputs": []
    },
    {
      "metadata": {
        "id": "OedmqyrD-gIy",
        "colab_type": "code",
        "outputId": "3136ea55-d3a5-41a5-829a-92c96427b19e",
        "colab": {
          "base_uri": "https://localhost:8080/",
          "height": 312
        }
      },
      "cell_type": "code",
      "source": [
        "reviews_written = reviews.groupby('taster_twitter_handle').size(); reviews_written"
      ],
      "execution_count": 0,
      "outputs": [
        {
          "output_type": "execute_result",
          "data": {
            "text/plain": [
              "taster_twitter_handle\n",
              "@AnneInVino          3685\n",
              "@JoeCz               5147\n",
              "@bkfiona               27\n",
              "@gordone_cellars     4177\n",
              "@kerinokeefe        10776\n",
              "@laurbuzz            1835\n",
              "@mattkettmann        6332\n",
              "@paulgwine           9532\n",
              "@suskostrzewa        1085\n",
              "@vboone              9537\n",
              "@vossroger          25514\n",
              "@wawinereport        4966\n",
              "@wineschach         15134\n",
              "@winewchristina         6\n",
              "@worldwineguys       1005\n",
              "dtype: int64"
            ]
          },
          "metadata": {
            "tags": []
          },
          "execution_count": 6
        }
      ]
    },
    {
      "metadata": {
        "id": "hMslbuXrB9XH",
        "colab_type": "text"
      },
      "cell_type": "markdown",
      "source": [
        "**Question 22.** What is the best wine I can buy for a given amount of money? Create a `Series` whose index is wine prices and whose values is the maximum number of points a wine costing that much was given in a review. Sort the values by price, Descending (so that `3300.0` dollars is at the top and `4.0` dollars is at the bottom). Show the first 5 rows of the series."
      ]
    },
    {
      "metadata": {
        "colab_type": "code",
        "id": "9jRym3pNXelc",
        "colab": {}
      },
      "cell_type": "code",
      "source": [
        "# TODO: your code here"
      ],
      "execution_count": 0,
      "outputs": []
    },
    {
      "metadata": {
        "id": "aCkpCpraAv-h",
        "colab_type": "code",
        "outputId": "a392c84d-9de1-4a95-80d0-31122aface74",
        "colab": {
          "base_uri": "https://localhost:8080/",
          "height": 139
        }
      },
      "cell_type": "code",
      "source": [
        "best_rating_per_price = reviews.groupby('price').points.max().sort_index(ascending=False); best_rating_per_price.head()"
      ],
      "execution_count": 0,
      "outputs": [
        {
          "output_type": "execute_result",
          "data": {
            "text/plain": [
              "price\n",
              "3300.0    88\n",
              "2500.0    96\n",
              "2013.0    91\n",
              "2000.0    97\n",
              "1900.0    98\n",
              "Name: points, dtype: int64"
            ]
          },
          "metadata": {
            "tags": []
          },
          "execution_count": 7
        }
      ]
    },
    {
      "metadata": {
        "id": "AEhk3H2NCfNt",
        "colab_type": "text"
      },
      "cell_type": "markdown",
      "source": [
        "**Question 23.** What are the minimum, maximum and median prices for each `variety` of wine? Create a `DataFrame` whose index is the `variety` category from the dataset and whose values are the `min`, `max` and `medium` values thereof. Show the 5 rows of the dataframe."
      ]
    },
    {
      "metadata": {
        "colab_type": "code",
        "id": "oPGnkUYjXfG4",
        "colab": {}
      },
      "cell_type": "code",
      "source": [
        "# TODO: your code here"
      ],
      "execution_count": 0,
      "outputs": []
    },
    {
      "metadata": {
        "id": "4SBtxtVACKJZ",
        "colab_type": "code",
        "outputId": "ea5ac0c4-3ce7-4c56-c326-aca217d4159b",
        "colab": {
          "base_uri": "https://localhost:8080/",
          "height": 237
        }
      },
      "cell_type": "code",
      "source": [
        "price_describe = reviews.groupby('variety').price.agg(['min', 'max', 'median']); price_describe.head()"
      ],
      "execution_count": 0,
      "outputs": [
        {
          "output_type": "execute_result",
          "data": {
            "text/html": [
              "<div>\n",
              "<style scoped>\n",
              "    .dataframe tbody tr th:only-of-type {\n",
              "        vertical-align: middle;\n",
              "    }\n",
              "\n",
              "    .dataframe tbody tr th {\n",
              "        vertical-align: top;\n",
              "    }\n",
              "\n",
              "    .dataframe thead th {\n",
              "        text-align: right;\n",
              "    }\n",
              "</style>\n",
              "<table border=\"1\" class=\"dataframe\">\n",
              "  <thead>\n",
              "    <tr style=\"text-align: right;\">\n",
              "      <th></th>\n",
              "      <th>min</th>\n",
              "      <th>max</th>\n",
              "      <th>median</th>\n",
              "    </tr>\n",
              "    <tr>\n",
              "      <th>variety</th>\n",
              "      <th></th>\n",
              "      <th></th>\n",
              "      <th></th>\n",
              "    </tr>\n",
              "  </thead>\n",
              "  <tbody>\n",
              "    <tr>\n",
              "      <th>Abouriou</th>\n",
              "      <td>15.0</td>\n",
              "      <td>75.0</td>\n",
              "      <td>15.0</td>\n",
              "    </tr>\n",
              "    <tr>\n",
              "      <th>Agiorgitiko</th>\n",
              "      <td>10.0</td>\n",
              "      <td>66.0</td>\n",
              "      <td>20.0</td>\n",
              "    </tr>\n",
              "    <tr>\n",
              "      <th>Aglianico</th>\n",
              "      <td>6.0</td>\n",
              "      <td>180.0</td>\n",
              "      <td>33.5</td>\n",
              "    </tr>\n",
              "    <tr>\n",
              "      <th>Aidani</th>\n",
              "      <td>27.0</td>\n",
              "      <td>27.0</td>\n",
              "      <td>27.0</td>\n",
              "    </tr>\n",
              "    <tr>\n",
              "      <th>Airen</th>\n",
              "      <td>8.0</td>\n",
              "      <td>10.0</td>\n",
              "      <td>9.0</td>\n",
              "    </tr>\n",
              "  </tbody>\n",
              "</table>\n",
              "</div>"
            ],
            "text/plain": [
              "              min    max  median\n",
              "variety                         \n",
              "Abouriou     15.0   75.0    15.0\n",
              "Agiorgitiko  10.0   66.0    20.0\n",
              "Aglianico     6.0  180.0    33.5\n",
              "Aidani       27.0   27.0    27.0\n",
              "Airen         8.0   10.0     9.0"
            ]
          },
          "metadata": {
            "tags": []
          },
          "execution_count": 8
        }
      ]
    },
    {
      "metadata": {
        "id": "vUeHL6ZNGiXz",
        "colab_type": "text"
      },
      "cell_type": "markdown",
      "source": [
        "**Question 24.** What are the most expensive wine varieties? Create a variable `sorted_varieties` containing a copy of the dataframe from the previous question where varieties are sorted in descending order based on minimum price, then on maximum price (to break ties). Show the 5 rows of the dataframe."
      ]
    },
    {
      "metadata": {
        "colab_type": "code",
        "id": "9HMY8ioPXf0p",
        "colab": {}
      },
      "cell_type": "code",
      "source": [
        "# TODO: your code here"
      ],
      "execution_count": 0,
      "outputs": []
    },
    {
      "metadata": {
        "id": "p8jvjn0GCr-o",
        "colab_type": "code",
        "outputId": "83fb8370-bc9b-4093-d19f-0b0a15a76810",
        "colab": {
          "base_uri": "https://localhost:8080/",
          "height": 237
        }
      },
      "cell_type": "code",
      "source": [
        "sorted_varieties = price_describe.sort_values(['min', 'max'],ascending=False); sorted_varieties.head()"
      ],
      "execution_count": 0,
      "outputs": [
        {
          "output_type": "execute_result",
          "data": {
            "text/html": [
              "<div>\n",
              "<style scoped>\n",
              "    .dataframe tbody tr th:only-of-type {\n",
              "        vertical-align: middle;\n",
              "    }\n",
              "\n",
              "    .dataframe tbody tr th {\n",
              "        vertical-align: top;\n",
              "    }\n",
              "\n",
              "    .dataframe thead th {\n",
              "        text-align: right;\n",
              "    }\n",
              "</style>\n",
              "<table border=\"1\" class=\"dataframe\">\n",
              "  <thead>\n",
              "    <tr style=\"text-align: right;\">\n",
              "      <th></th>\n",
              "      <th>min</th>\n",
              "      <th>max</th>\n",
              "      <th>median</th>\n",
              "    </tr>\n",
              "    <tr>\n",
              "      <th>variety</th>\n",
              "      <th></th>\n",
              "      <th></th>\n",
              "      <th></th>\n",
              "    </tr>\n",
              "  </thead>\n",
              "  <tbody>\n",
              "    <tr>\n",
              "      <th>Ramisco</th>\n",
              "      <td>495.0</td>\n",
              "      <td>495.0</td>\n",
              "      <td>495.0</td>\n",
              "    </tr>\n",
              "    <tr>\n",
              "      <th>Terrantez</th>\n",
              "      <td>236.0</td>\n",
              "      <td>236.0</td>\n",
              "      <td>236.0</td>\n",
              "    </tr>\n",
              "    <tr>\n",
              "      <th>Francisa</th>\n",
              "      <td>160.0</td>\n",
              "      <td>160.0</td>\n",
              "      <td>160.0</td>\n",
              "    </tr>\n",
              "    <tr>\n",
              "      <th>Rosenmuskateller</th>\n",
              "      <td>150.0</td>\n",
              "      <td>150.0</td>\n",
              "      <td>150.0</td>\n",
              "    </tr>\n",
              "    <tr>\n",
              "      <th>Tinta Negra Mole</th>\n",
              "      <td>112.0</td>\n",
              "      <td>112.0</td>\n",
              "      <td>112.0</td>\n",
              "    </tr>\n",
              "  </tbody>\n",
              "</table>\n",
              "</div>"
            ],
            "text/plain": [
              "                    min    max  median\n",
              "variety                               \n",
              "Ramisco           495.0  495.0   495.0\n",
              "Terrantez         236.0  236.0   236.0\n",
              "Francisa          160.0  160.0   160.0\n",
              "Rosenmuskateller  150.0  150.0   150.0\n",
              "Tinta Negra Mole  112.0  112.0   112.0"
            ]
          },
          "metadata": {
            "tags": []
          },
          "execution_count": 9
        }
      ]
    },
    {
      "metadata": {
        "id": "WFcue3FdHeoc",
        "colab_type": "text"
      },
      "cell_type": "markdown",
      "source": [
        "**Question 25.** Create a Series whose index is reviewers and whose values is the average review score given out by that reviewer. Show the first 5 rows of the series (Hint: name of reviewer is in `taster_name`.)"
      ]
    },
    {
      "metadata": {
        "colab_type": "code",
        "id": "zA6DhhyzXgeY",
        "colab": {}
      },
      "cell_type": "code",
      "source": [
        "# TODO: your code here"
      ],
      "execution_count": 0,
      "outputs": []
    },
    {
      "metadata": {
        "id": "CJeuUWUsGsHp",
        "colab_type": "code",
        "outputId": "da694fad-1b2c-42a7-f4cc-170242d4c3e5",
        "colab": {
          "base_uri": "https://localhost:8080/",
          "height": 139
        }
      },
      "cell_type": "code",
      "source": [
        "reviewer_mean_ratings = reviews.groupby('taster_name').points.mean(); reviewer_mean_ratings.head()"
      ],
      "execution_count": 0,
      "outputs": [
        {
          "output_type": "execute_result",
          "data": {
            "text/plain": [
              "taster_name\n",
              "Alexander Peartree    85.855422\n",
              "Anna Lee C. Iijima    88.415629\n",
              "Anne Krebiehl MW      90.562551\n",
              "Carrie Dykes          86.395683\n",
              "Christina Pickard     87.833333\n",
              "Name: points, dtype: float64"
            ]
          },
          "metadata": {
            "tags": []
          },
          "execution_count": 10
        }
      ]
    },
    {
      "metadata": {
        "id": "PPK_WSfh_1Tq",
        "colab_type": "text"
      },
      "cell_type": "markdown",
      "source": [
        "**Question 26.** What combination of countries and varieties are most common? Create a `Series` whose index is a `MultiIndex`of `{country, variety}` pairs. For example, a pinot noir produced in the US should map to `{\"US\", \"Pinot Noir\"}`. Sort the values in the `Series` in descending order based on wine count. Show the first 10 rows of the series."
      ]
    },
    {
      "metadata": {
        "colab_type": "code",
        "id": "9gfF9jcfXg-R",
        "colab": {}
      },
      "cell_type": "code",
      "source": [
        "# TODO: your code here"
      ],
      "execution_count": 0,
      "outputs": []
    },
    {
      "metadata": {
        "id": "sXeBm_YOHuzi",
        "colab_type": "code",
        "outputId": "21562787-0fdc-4c5f-e5f1-c3fd17aa6b13",
        "colab": {
          "base_uri": "https://localhost:8080/",
          "height": 225
        }
      },
      "cell_type": "code",
      "source": [
        "country_variety_counts = reviews.groupby(['country', 'variety']).size().sort_values(ascending=False); country_variety_counts.head(10)"
      ],
      "execution_count": 0,
      "outputs": [
        {
          "output_type": "execute_result",
          "data": {
            "text/plain": [
              "country  variety                 \n",
              "US       Pinot Noir                  9885\n",
              "         Cabernet Sauvignon          7315\n",
              "         Chardonnay                  6801\n",
              "France   Bordeaux-style Red Blend    4725\n",
              "Italy    Red Blend                   3624\n",
              "US       Syrah                       3244\n",
              "         Red Blend                   2972\n",
              "France   Chardonnay                  2808\n",
              "Italy    Nebbiolo                    2736\n",
              "US       Zinfandel                   2711\n",
              "dtype: int64"
            ]
          },
          "metadata": {
            "tags": []
          },
          "execution_count": 12
        }
      ]
    },
    {
      "metadata": {
        "id": "zxjiMPEaF9hY",
        "colab_type": "text"
      },
      "cell_type": "markdown",
      "source": [
        "**Question 27.** `region_1` and `region_2` are pretty uninformative names for locale columns in the dataset. Create a copy of `reviews` with these columns renamed to `region` and `locale`, respectively. Show the first 5 rows of the renamed dataframe."
      ]
    },
    {
      "metadata": {
        "colab_type": "code",
        "id": "suFObsSmXhv8",
        "colab": {}
      },
      "cell_type": "code",
      "source": [
        "# TODO: your code here"
      ],
      "execution_count": 0,
      "outputs": []
    },
    {
      "metadata": {
        "id": "D6vHes_O_6tb",
        "colab_type": "code",
        "outputId": "2034c9aa-8388-4283-9654-4548d46f7a77",
        "colab": {
          "base_uri": "https://localhost:8080/",
          "height": 643
        }
      },
      "cell_type": "code",
      "source": [
        "renamed = reviews.rename(columns={'region_1':'region', 'region_2':'locale'}); renamed.head()"
      ],
      "execution_count": 0,
      "outputs": [
        {
          "output_type": "execute_result",
          "data": {
            "text/html": [
              "<div>\n",
              "<style scoped>\n",
              "    .dataframe tbody tr th:only-of-type {\n",
              "        vertical-align: middle;\n",
              "    }\n",
              "\n",
              "    .dataframe tbody tr th {\n",
              "        vertical-align: top;\n",
              "    }\n",
              "\n",
              "    .dataframe thead th {\n",
              "        text-align: right;\n",
              "    }\n",
              "</style>\n",
              "<table border=\"1\" class=\"dataframe\">\n",
              "  <thead>\n",
              "    <tr style=\"text-align: right;\">\n",
              "      <th></th>\n",
              "      <th>country</th>\n",
              "      <th>description</th>\n",
              "      <th>designation</th>\n",
              "      <th>points</th>\n",
              "      <th>price</th>\n",
              "      <th>province</th>\n",
              "      <th>region</th>\n",
              "      <th>locale</th>\n",
              "      <th>taster_name</th>\n",
              "      <th>taster_twitter_handle</th>\n",
              "      <th>title</th>\n",
              "      <th>variety</th>\n",
              "      <th>winery</th>\n",
              "    </tr>\n",
              "  </thead>\n",
              "  <tbody>\n",
              "    <tr>\n",
              "      <th>0</th>\n",
              "      <td>Italy</td>\n",
              "      <td>Aromas include tropical fruit, broom, brimston...</td>\n",
              "      <td>Vulkà Bianco</td>\n",
              "      <td>87</td>\n",
              "      <td>NaN</td>\n",
              "      <td>Sicily &amp; Sardinia</td>\n",
              "      <td>Etna</td>\n",
              "      <td>NaN</td>\n",
              "      <td>Kerin O’Keefe</td>\n",
              "      <td>@kerinokeefe</td>\n",
              "      <td>Nicosia 2013 Vulkà Bianco  (Etna)</td>\n",
              "      <td>White Blend</td>\n",
              "      <td>Nicosia</td>\n",
              "    </tr>\n",
              "    <tr>\n",
              "      <th>1</th>\n",
              "      <td>Portugal</td>\n",
              "      <td>This is ripe and fruity, a wine that is smooth...</td>\n",
              "      <td>Avidagos</td>\n",
              "      <td>87</td>\n",
              "      <td>15.0</td>\n",
              "      <td>Douro</td>\n",
              "      <td>NaN</td>\n",
              "      <td>NaN</td>\n",
              "      <td>Roger Voss</td>\n",
              "      <td>@vossroger</td>\n",
              "      <td>Quinta dos Avidagos 2011 Avidagos Red (Douro)</td>\n",
              "      <td>Portuguese Red</td>\n",
              "      <td>Quinta dos Avidagos</td>\n",
              "    </tr>\n",
              "    <tr>\n",
              "      <th>2</th>\n",
              "      <td>US</td>\n",
              "      <td>Tart and snappy, the flavors of lime flesh and...</td>\n",
              "      <td>NaN</td>\n",
              "      <td>87</td>\n",
              "      <td>14.0</td>\n",
              "      <td>Oregon</td>\n",
              "      <td>Willamette Valley</td>\n",
              "      <td>Willamette Valley</td>\n",
              "      <td>Paul Gregutt</td>\n",
              "      <td>@paulgwine</td>\n",
              "      <td>Rainstorm 2013 Pinot Gris (Willamette Valley)</td>\n",
              "      <td>Pinot Gris</td>\n",
              "      <td>Rainstorm</td>\n",
              "    </tr>\n",
              "    <tr>\n",
              "      <th>3</th>\n",
              "      <td>US</td>\n",
              "      <td>Pineapple rind, lemon pith and orange blossom ...</td>\n",
              "      <td>Reserve Late Harvest</td>\n",
              "      <td>87</td>\n",
              "      <td>13.0</td>\n",
              "      <td>Michigan</td>\n",
              "      <td>Lake Michigan Shore</td>\n",
              "      <td>NaN</td>\n",
              "      <td>Alexander Peartree</td>\n",
              "      <td>NaN</td>\n",
              "      <td>St. Julian 2013 Reserve Late Harvest Riesling ...</td>\n",
              "      <td>Riesling</td>\n",
              "      <td>St. Julian</td>\n",
              "    </tr>\n",
              "    <tr>\n",
              "      <th>4</th>\n",
              "      <td>US</td>\n",
              "      <td>Much like the regular bottling from 2012, this...</td>\n",
              "      <td>Vintner's Reserve Wild Child Block</td>\n",
              "      <td>87</td>\n",
              "      <td>65.0</td>\n",
              "      <td>Oregon</td>\n",
              "      <td>Willamette Valley</td>\n",
              "      <td>Willamette Valley</td>\n",
              "      <td>Paul Gregutt</td>\n",
              "      <td>@paulgwine</td>\n",
              "      <td>Sweet Cheeks 2012 Vintner's Reserve Wild Child...</td>\n",
              "      <td>Pinot Noir</td>\n",
              "      <td>Sweet Cheeks</td>\n",
              "    </tr>\n",
              "  </tbody>\n",
              "</table>\n",
              "</div>"
            ],
            "text/plain": [
              "    country                                        description  \\\n",
              "0     Italy  Aromas include tropical fruit, broom, brimston...   \n",
              "1  Portugal  This is ripe and fruity, a wine that is smooth...   \n",
              "2        US  Tart and snappy, the flavors of lime flesh and...   \n",
              "3        US  Pineapple rind, lemon pith and orange blossom ...   \n",
              "4        US  Much like the regular bottling from 2012, this...   \n",
              "\n",
              "                          designation  points  price           province  \\\n",
              "0                        Vulkà Bianco      87    NaN  Sicily & Sardinia   \n",
              "1                            Avidagos      87   15.0              Douro   \n",
              "2                                 NaN      87   14.0             Oregon   \n",
              "3                Reserve Late Harvest      87   13.0           Michigan   \n",
              "4  Vintner's Reserve Wild Child Block      87   65.0             Oregon   \n",
              "\n",
              "                region             locale         taster_name  \\\n",
              "0                 Etna                NaN       Kerin O’Keefe   \n",
              "1                  NaN                NaN          Roger Voss   \n",
              "2    Willamette Valley  Willamette Valley        Paul Gregutt   \n",
              "3  Lake Michigan Shore                NaN  Alexander Peartree   \n",
              "4    Willamette Valley  Willamette Valley        Paul Gregutt   \n",
              "\n",
              "  taster_twitter_handle                                              title  \\\n",
              "0          @kerinokeefe                  Nicosia 2013 Vulkà Bianco  (Etna)   \n",
              "1            @vossroger      Quinta dos Avidagos 2011 Avidagos Red (Douro)   \n",
              "2           @paulgwine       Rainstorm 2013 Pinot Gris (Willamette Valley)   \n",
              "3                   NaN  St. Julian 2013 Reserve Late Harvest Riesling ...   \n",
              "4           @paulgwine   Sweet Cheeks 2012 Vintner's Reserve Wild Child...   \n",
              "\n",
              "          variety               winery  \n",
              "0     White Blend              Nicosia  \n",
              "1  Portuguese Red  Quinta dos Avidagos  \n",
              "2      Pinot Gris            Rainstorm  \n",
              "3        Riesling           St. Julian  \n",
              "4      Pinot Noir         Sweet Cheeks  "
            ]
          },
          "metadata": {
            "tags": []
          },
          "execution_count": 18
        }
      ]
    },
    {
      "metadata": {
        "id": "D73vqBKbGOdx",
        "colab_type": "code",
        "colab": {}
      },
      "cell_type": "code",
      "source": [
        ""
      ],
      "execution_count": 0,
      "outputs": []
    }
  ]
}