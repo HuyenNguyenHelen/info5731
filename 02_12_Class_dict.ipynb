{
  "nbformat": 4,
  "nbformat_minor": 0,
  "metadata": {
    "colab": {
      "name": "02/12 Class -dict.ipynb",
      "version": "0.3.2",
      "provenance": [],
      "include_colab_link": true
    },
    "kernelspec": {
      "name": "python3",
      "display_name": "Python 3"
    }
  },
  "cells": [
    {
      "cell_type": "markdown",
      "metadata": {
        "id": "view-in-github",
        "colab_type": "text"
      },
      "source": [
        "<a href=\"https://colab.research.google.com/github/dafeng097/info5731/blob/master/02_12_Class_dict.ipynb\" target=\"_parent\"><img src=\"https://colab.research.google.com/assets/colab-badge.svg\" alt=\"Open In Colab\"/></a>"
      ]
    },
    {
      "metadata": {
        "id": "BEdv2JL0da9H",
        "colab_type": "code",
        "colab": {}
      },
      "cell_type": "code",
      "source": [
        "text = \"\"\"Grant Cornwell, College of Wooster (left in 2015): $911,651\n",
        "Marvin Krislov, Oberlin College (left in 2016):  $829,913\n",
        "Mark Roosevelt, Antioch College, (left in 2015): $507,672\n",
        "Laurie Joyner, Wittenberg University (left in 2015): $463,504\n",
        "Richard Giese, University of Mount Union (left in 2015): $453,800\n",
        "Sean Decatur,Kenyon College: $451,698\n",
        "Adam Weinberg, Denison University: $435,322\n",
        "Daniel Dibiasio, Ohio Northern University: $414,716\n",
        "Denvy Bowman, Capital University (left in 2016): $388,570\n",
        "Anne Steele, Muskingum University (left in 2016): $384,233\n",
        "Kathy Krendl, Otterbein University:  $378,035\n",
        "Rockwell Jones, Ohio Wesleyan University: $366,625\n",
        "Robert Helmer, Baldwin Wallace University: $365,616\n",
        "Robert Huntington, Heidelberg University: $300,005\n",
        "Lori Varlotta, Hiram College: $293,336\n",
        "Joseph Bruno, Marietta College (left in 2016): $288,295\n",
        "W. Richard Merriman Jr., University of Mount Union (started in June 2015): $221,761\"\"\""
      ],
      "execution_count": 0,
      "outputs": []
    },
    {
      "metadata": {
        "id": "A969NH0EduHK",
        "colab_type": "code",
        "colab": {}
      },
      "cell_type": "code",
      "source": [
        "import re"
      ],
      "execution_count": 0,
      "outputs": []
    },
    {
      "metadata": {
        "id": "5QQ1nfhOfCYj",
        "colab_type": "code",
        "colab": {}
      },
      "cell_type": "code",
      "source": [
        "regex = r\",\\s*([\\w+\\s*]+).*\\$(\\d+),(\\d+)\""
      ],
      "execution_count": 0,
      "outputs": []
    },
    {
      "metadata": {
        "id": "jQqjlunHfMPx",
        "colab_type": "code",
        "colab": {}
      },
      "cell_type": "code",
      "source": [
        "result = re.findall(regex, text)"
      ],
      "execution_count": 0,
      "outputs": []
    },
    {
      "metadata": {
        "id": "ODilr017fROU",
        "colab_type": "code",
        "outputId": "7125f83e-7763-4a5b-addf-700ff69c573b",
        "colab": {
          "base_uri": "https://localhost:8080/",
          "height": 302
        }
      },
      "cell_type": "code",
      "source": [
        "result"
      ],
      "execution_count": 0,
      "outputs": [
        {
          "output_type": "execute_result",
          "data": {
            "text/plain": [
              "[('College of Wooster ', '911', '651'),\n",
              " ('Oberlin College ', '829', '913'),\n",
              " ('Antioch College', '507', '672'),\n",
              " ('Wittenberg University ', '463', '504'),\n",
              " ('University of Mount Union ', '453', '800'),\n",
              " ('Kenyon College', '451', '698'),\n",
              " ('Denison University', '435', '322'),\n",
              " ('Ohio Northern University', '414', '716'),\n",
              " ('Capital University ', '388', '570'),\n",
              " ('Muskingum University ', '384', '233'),\n",
              " ('Otterbein University', '378', '035'),\n",
              " ('Ohio Wesleyan University', '366', '625'),\n",
              " ('Baldwin Wallace University', '365', '616'),\n",
              " ('Heidelberg University', '300', '005'),\n",
              " ('Hiram College', '293', '336'),\n",
              " ('Marietta College ', '288', '295'),\n",
              " ('University of Mount Union ', '221', '761')]"
            ]
          },
          "metadata": {
            "tags": []
          },
          "execution_count": 16
        }
      ]
    },
    {
      "metadata": {
        "id": "izrAL6gTfYD1",
        "colab_type": "code",
        "outputId": "3cd0b070-1947-4626-94d7-cfdecb469076",
        "colab": {
          "base_uri": "https://localhost:8080/",
          "height": 302
        }
      },
      "cell_type": "code",
      "source": [
        "mydict =dict()\n",
        "for item in result:\n",
        "  print(item[0])"
      ],
      "execution_count": 0,
      "outputs": [
        {
          "output_type": "stream",
          "text": [
            "College of Wooster \n",
            "Oberlin College \n",
            "Antioch College\n",
            "Wittenberg University \n",
            "University of Mount Union \n",
            "Kenyon College\n",
            "Denison University\n",
            "Ohio Northern University\n",
            "Capital University \n",
            "Muskingum University \n",
            "Otterbein University\n",
            "Ohio Wesleyan University\n",
            "Baldwin Wallace University\n",
            "Heidelberg University\n",
            "Hiram College\n",
            "Marietta College \n",
            "University of Mount Union \n"
          ],
          "name": "stdout"
        }
      ]
    },
    {
      "metadata": {
        "id": "WjzRh4G5fjUU",
        "colab_type": "code",
        "colab": {}
      },
      "cell_type": "code",
      "source": [
        "for item in result:\n",
        "  mydict[item[0]] = float(item[1]+item[2])/2000"
      ],
      "execution_count": 0,
      "outputs": []
    },
    {
      "metadata": {
        "id": "Vqe0AxIMf6H6",
        "colab_type": "code",
        "outputId": "d4d5fc92-e5e1-4f48-e001-57263e1d88c2",
        "colab": {
          "base_uri": "https://localhost:8080/",
          "height": 286
        }
      },
      "cell_type": "code",
      "source": [
        "mydict"
      ],
      "execution_count": 0,
      "outputs": [
        {
          "output_type": "execute_result",
          "data": {
            "text/plain": [
              "{'Antioch College': 253.836,\n",
              " 'Baldwin Wallace University': 182.808,\n",
              " 'Capital University ': 194.285,\n",
              " 'College of Wooster ': 455.8255,\n",
              " 'Denison University': 217.661,\n",
              " 'Heidelberg University': 150.0025,\n",
              " 'Hiram College': 146.668,\n",
              " 'Kenyon College': 225.849,\n",
              " 'Marietta College ': 144.1475,\n",
              " 'Muskingum University ': 192.1165,\n",
              " 'Oberlin College ': 414.9565,\n",
              " 'Ohio Northern University': 207.358,\n",
              " 'Ohio Wesleyan University': 183.3125,\n",
              " 'Otterbein University': 189.0175,\n",
              " 'University of Mount Union ': 110.8805,\n",
              " 'Wittenberg University ': 231.752}"
            ]
          },
          "metadata": {
            "tags": []
          },
          "execution_count": 20
        }
      ]
    },
    {
      "metadata": {
        "id": "A2_soVxIf9iX",
        "colab_type": "code",
        "outputId": "ca613001-0fcf-4700-fc02-26141bb57849",
        "colab": {
          "base_uri": "https://localhost:8080/",
          "height": 286
        }
      },
      "cell_type": "code",
      "source": [
        "for k, v in mydict.items():\n",
        "  print(f'{k}:${v}')"
      ],
      "execution_count": 0,
      "outputs": [
        {
          "output_type": "stream",
          "text": [
            "College of Wooster :$455.8255\n",
            "Oberlin College :$414.9565\n",
            "Antioch College:$253.836\n",
            "Wittenberg University :$231.752\n",
            "University of Mount Union :$110.8805\n",
            "Kenyon College:$225.849\n",
            "Denison University:$217.661\n",
            "Ohio Northern University:$207.358\n",
            "Capital University :$194.285\n",
            "Muskingum University :$192.1165\n",
            "Otterbein University:$189.0175\n",
            "Ohio Wesleyan University:$183.3125\n",
            "Baldwin Wallace University:$182.808\n",
            "Heidelberg University:$150.0025\n",
            "Hiram College:$146.668\n",
            "Marietta College :$144.1475\n"
          ],
          "name": "stdout"
        }
      ]
    },
    {
      "metadata": {
        "id": "VP1_foekiSGW",
        "colab_type": "code",
        "colab": {}
      },
      "cell_type": "code",
      "source": [
        "mylist = list(mydict.items())"
      ],
      "execution_count": 0,
      "outputs": []
    },
    {
      "metadata": {
        "id": "h9VYbdhdiyl7",
        "colab_type": "code",
        "outputId": "8ee6cc1f-8f89-4627-b4d5-100e461476e8",
        "colab": {
          "base_uri": "https://localhost:8080/",
          "height": 286
        }
      },
      "cell_type": "code",
      "source": [
        "mylist"
      ],
      "execution_count": 0,
      "outputs": [
        {
          "output_type": "execute_result",
          "data": {
            "text/plain": [
              "[('College of Wooster ', 455.8255),\n",
              " ('Oberlin College ', 414.9565),\n",
              " ('Antioch College', 253.836),\n",
              " ('Wittenberg University ', 231.752),\n",
              " ('University of Mount Union ', 110.8805),\n",
              " ('Kenyon College', 225.849),\n",
              " ('Denison University', 217.661),\n",
              " ('Ohio Northern University', 207.358),\n",
              " ('Capital University ', 194.285),\n",
              " ('Muskingum University ', 192.1165),\n",
              " ('Otterbein University', 189.0175),\n",
              " ('Ohio Wesleyan University', 183.3125),\n",
              " ('Baldwin Wallace University', 182.808),\n",
              " ('Heidelberg University', 150.0025),\n",
              " ('Hiram College', 146.668),\n",
              " ('Marietta College ', 144.1475)]"
            ]
          },
          "metadata": {
            "tags": []
          },
          "execution_count": 30
        }
      ]
    },
    {
      "metadata": {
        "id": "TSmtozX0jfck",
        "colab_type": "code",
        "colab": {}
      },
      "cell_type": "code",
      "source": [
        "mylist.sort(key = lambda x:x[1], reverse = True)"
      ],
      "execution_count": 0,
      "outputs": []
    },
    {
      "metadata": {
        "id": "tPR3gk69j6UD",
        "colab_type": "code",
        "outputId": "2cacbc66-4010-434e-9420-a5733a69e86d",
        "colab": {
          "base_uri": "https://localhost:8080/",
          "height": 286
        }
      },
      "cell_type": "code",
      "source": [
        "mylist"
      ],
      "execution_count": 0,
      "outputs": [
        {
          "output_type": "execute_result",
          "data": {
            "text/plain": [
              "[('College of Wooster ', 455.8255),\n",
              " ('Oberlin College ', 414.9565),\n",
              " ('Antioch College', 253.836),\n",
              " ('Wittenberg University ', 231.752),\n",
              " ('Kenyon College', 225.849),\n",
              " ('Denison University', 217.661),\n",
              " ('Ohio Northern University', 207.358),\n",
              " ('Capital University ', 194.285),\n",
              " ('Muskingum University ', 192.1165),\n",
              " ('Otterbein University', 189.0175),\n",
              " ('Ohio Wesleyan University', 183.3125),\n",
              " ('Baldwin Wallace University', 182.808),\n",
              " ('Heidelberg University', 150.0025),\n",
              " ('Hiram College', 146.668),\n",
              " ('Marietta College ', 144.1475),\n",
              " ('University of Mount Union ', 110.8805)]"
            ]
          },
          "metadata": {
            "tags": []
          },
          "execution_count": 34
        }
      ]
    },
    {
      "metadata": {
        "id": "d0Y0-Ijjj7M-",
        "colab_type": "code",
        "outputId": "e420638a-5305-44a2-f63f-81c632fb1910",
        "colab": {
          "base_uri": "https://localhost:8080/",
          "height": 34
        }
      },
      "cell_type": "code",
      "source": [
        "mylist[1]"
      ],
      "execution_count": 0,
      "outputs": [
        {
          "output_type": "execute_result",
          "data": {
            "text/plain": [
              "('Oberlin College ', 414.9565)"
            ]
          },
          "metadata": {
            "tags": []
          },
          "execution_count": 36
        }
      ]
    },
    {
      "metadata": {
        "id": "G2FRw2rukET5",
        "colab_type": "code",
        "outputId": "d6edaa36-2b14-48f0-9289-d528756c46c5",
        "colab": {
          "base_uri": "https://localhost:8080/",
          "height": 34
        }
      },
      "cell_type": "code",
      "source": [
        "mylist[1][1]"
      ],
      "execution_count": 0,
      "outputs": [
        {
          "output_type": "execute_result",
          "data": {
            "text/plain": [
              "414.9565"
            ]
          },
          "metadata": {
            "tags": []
          },
          "execution_count": 37
        }
      ]
    },
    {
      "metadata": {
        "id": "kfpgQ4twkZjq",
        "colab_type": "code",
        "colab": {}
      },
      "cell_type": "code",
      "source": [
        "college = [item[0] for item in mylist]"
      ],
      "execution_count": 0,
      "outputs": []
    },
    {
      "metadata": {
        "id": "tLh2h_UIkhfg",
        "colab_type": "code",
        "outputId": "e9129634-2afd-42a7-9ec0-4fb79feea460",
        "colab": {
          "base_uri": "https://localhost:8080/",
          "height": 286
        }
      },
      "cell_type": "code",
      "source": [
        "college\n"
      ],
      "execution_count": 0,
      "outputs": [
        {
          "output_type": "execute_result",
          "data": {
            "text/plain": [
              "['College of Wooster ',\n",
              " 'Oberlin College ',\n",
              " 'Antioch College',\n",
              " 'Wittenberg University ',\n",
              " 'Kenyon College',\n",
              " 'Denison University',\n",
              " 'Ohio Northern University',\n",
              " 'Capital University ',\n",
              " 'Muskingum University ',\n",
              " 'Otterbein University',\n",
              " 'Ohio Wesleyan University',\n",
              " 'Baldwin Wallace University',\n",
              " 'Heidelberg University',\n",
              " 'Hiram College',\n",
              " 'Marietta College ',\n",
              " 'University of Mount Union ']"
            ]
          },
          "metadata": {
            "tags": []
          },
          "execution_count": 51
        }
      ]
    },
    {
      "metadata": {
        "id": "yIIBkyvRl1MV",
        "colab_type": "code",
        "colab": {}
      },
      "cell_type": "code",
      "source": [
        "salary= [item[1] for item in mylist]"
      ],
      "execution_count": 0,
      "outputs": []
    },
    {
      "metadata": {
        "id": "tJuubR2Nl5rR",
        "colab_type": "code",
        "outputId": "d015b629-5ce6-41f9-fe40-7b1cbb94963a",
        "colab": {
          "base_uri": "https://localhost:8080/",
          "height": 286
        }
      },
      "cell_type": "code",
      "source": [
        "salary"
      ],
      "execution_count": 0,
      "outputs": [
        {
          "output_type": "execute_result",
          "data": {
            "text/plain": [
              "[455.8255,\n",
              " 414.9565,\n",
              " 253.836,\n",
              " 231.752,\n",
              " 225.849,\n",
              " 217.661,\n",
              " 207.358,\n",
              " 194.285,\n",
              " 192.1165,\n",
              " 189.0175,\n",
              " 183.3125,\n",
              " 182.808,\n",
              " 150.0025,\n",
              " 146.668,\n",
              " 144.1475,\n",
              " 110.8805]"
            ]
          },
          "metadata": {
            "tags": []
          },
          "execution_count": 76
        }
      ]
    },
    {
      "metadata": {
        "id": "zJueEGLUl6v5",
        "colab_type": "code",
        "colab": {}
      },
      "cell_type": "code",
      "source": [
        "import matplotlib.pyplot as plt"
      ],
      "execution_count": 0,
      "outputs": []
    },
    {
      "metadata": {
        "id": "LWNffirSmKco",
        "colab_type": "code",
        "outputId": "eadad339-49fb-4d6f-a747-e8575e2dc70e",
        "colab": {
          "base_uri": "https://localhost:8080/",
          "height": 364
        }
      },
      "cell_type": "code",
      "source": [
        "plt.bar(college, salary)"
      ],
      "execution_count": 0,
      "outputs": [
        {
          "output_type": "execute_result",
          "data": {
            "text/plain": [
              "<BarContainer object of 16 artists>"
            ]
          },
          "metadata": {
            "tags": []
          },
          "execution_count": 72
        },
        {
          "output_type": "display_data",
          "data": {
            "image/png": "[encoded data removed]",
            "text/plain": [
              "<Figure size 576x396 with 1 Axes>"
            ]
          },
          "metadata": {
            "tags": []
          }
        }
      ]
    },
    {
      "metadata": {
        "id": "beKsojFtmW1N",
        "colab_type": "code",
        "colab": {}
      },
      "cell_type": "code",
      "source": [
        "from IPython.core.debugger import set_trace"
      ],
      "execution_count": 0,
      "outputs": []
    },
    {
      "metadata": {
        "id": "Vs46oR-2qB3V",
        "colab_type": "code",
        "colab": {}
      },
      "cell_type": "code",
      "source": [
        "#chapter 23"
      ],
      "execution_count": 0,
      "outputs": []
    },
    {
      "metadata": {
        "id": "ciaa5AH8vfDo",
        "colab_type": "code",
        "colab": {}
      },
      "cell_type": "code",
      "source": [
        ""
      ],
      "execution_count": 0,
      "outputs": []
    }
  ]
}